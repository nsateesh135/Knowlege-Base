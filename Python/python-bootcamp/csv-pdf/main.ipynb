{
 "cells": [
  {
   "cell_type": "code",
   "execution_count": 18,
   "metadata": {},
   "outputs": [
    {
     "name": "stdout",
     "output_type": "stream",
     "text": [
      "['fdrillingcourt1@umich.edu', 'nherity2@statcounter.com', 'ofrayling3@economist.com', 'jmurrison4@cbslocal.com', 'lgamet5@list-manage.com', 'dhowatt6@amazon.com', 'kherion7@amazon.com', 'chedworth8@china.com.cn', 'hgasquoine9@google.ru', 'ftarra@shareasale.com', 'abathb@umn.edu', 'lchastangc@goo.gl', 'cceried@yale.edu', 'ajeppe@umich.edu']\n"
     ]
    }
   ],
   "source": [
    "# working with csv files \n",
    "import csv\n",
    "\n",
    "# Reading from csv file\n",
    "data = open('example.csv',encoding='utf-8')\n",
    "csv_data = csv.reader(data)\n",
    "type(csv_data) # special csv reader class\n",
    "data_lines = list(csv_data) # List of list \n",
    "\n",
    "# Extract Emails from csv file\n",
    "all_emails  = []\n",
    "\n",
    "for row in data_lines[1:] :\n",
    "    all_emails.append(row[3])\n",
    "\n",
    "print(all_emails[1:15])\n",
    "\n",
    "# Writing to csv file\n",
    "\n",
    "file_output = open('to_save_file.csv',mode = 'w',newline='')\n",
    "csv_writer = csv.writer(file_output,delimiter=',')\n",
    "csv_writer.writerow(['a','b','c'])\n",
    "csv_writer.writerows([['1','2','3'],['4','5','6']])\n",
    "file_output.close()\n",
    "\n",
    "\n",
    "#Exsisting file \n",
    "f = open('to_save_file.csv','a',newline='')\n",
    "csv_writer = csv.writer(f)\n",
    "csv_writer.writerow(['new','new','new'])\n",
    "f.close()"
   ]
  },
  {
   "cell_type": "code",
   "execution_count": 51,
   "metadata": {},
   "outputs": [
    {
     "data": {
      "text/plain": [
       "'competencies. Dramatically mesh low-risk high-yield alignments before transparent e-tailers. Appropriately empower dynamic leadership skills after business portals. Globally myocardinate interactive supply chains with distinctive quality vectors. Globally revolutionize global sources through interoperable services. Enthusiastically mesh long-term high-impact infrastructures vis-a-vis efﬁcient customer service. Professionally fashion wireless leadership rather than prospective experiences. Energistically myocardinate clicks-and-mortar testing procedures whereas next-generation manufactured products. Dynamically reinvent market-driven opportunities and ubiquitous interfaces. Energistically fabricate an expanded array of niche markets through robust products. Appropriately implement visionary e-services vis-a-vis strategic web-readiness. Compellingly embrace empowered e-business after user friendly intellectual capital. Interactively actualize front-end processes with effective convergence. Synergistically deliver performance based methods of empowerment whereas distributed expertise. Efﬁciently enable enabled sources and cost effective products. Completely synthesize principle-centered information after ethical communities. Efﬁciently innovate open-source infrastructures via inexpensive materials. Objectively integrate enterprise-wide strategic theme areas with functionalized infrastructures. Interactively productize premium technologies whereas interdependent quality vectors. Rapaciously utilize enterprise experiences via 24/7 markets. Uniquely matrix economically sound value through cooperative technology. Competently parallel task fully researched data and enterprise process improvements. Collaboratively expedite quality manufactured products via client-focused results. BUSINESS PROPOSAL!4'"
      ]
     },
     "execution_count": 51,
     "metadata": {},
     "output_type": "execute_result"
    }
   ],
   "source": [
    "# Working with pdf (portable document format)\n",
    "# PyPDF2 - Can only read text from pdf files not images or other media files\n",
    "# PyPDF2 - cant read all types of PDF files\n",
    "# ! pip install PyPDF2\n",
    "\n",
    "import PyPDF2\n",
    "# rb : read binary \n",
    "\n",
    "f = open('Working_Business_Proposal.pdf','rb')\n",
    "pdf_reader = PyPDF2.PdfReader(f)\n",
    "len(pdf_reader.pages) # number of pages \n",
    "\n",
    "page_one = pdf_reader.pages[0]\n",
    "page_one_text = page_one.extract_text()\n",
    "page_one_text\n",
    "f.close()\n",
    "\n",
    "\n",
    "# Adding pages to PDF \n",
    "# We cant edit text we can just make a copy and append to the end \n",
    "\n",
    "f = open('Working_Business_Proposal.pdf','rb')\n",
    "pdf_reader = PyPDF2.PdfReader(f)\n",
    "first_page = pdf_reader.pages[0]\n",
    "pdf_writer = PyPDF2.PdfWriter()\n",
    "pdf_writer.add_page(first_page)\n",
    "\n",
    "pdf_output = open('some_new_pdf.pdf','wb')\n",
    "\n",
    "pdf_writer.write(pdf_output)\n",
    "f.close()\n",
    "\n",
    "# Extract all text from all pages in the PDF \n",
    "\n",
    "f = open('Working_Business_Proposal.pdf','rb')\n",
    "pdf_reader = PyPDF2.PdfReader(f)\n",
    "output_text = []\n",
    "\n",
    "for pageNumber in range(len(pdf_reader.pages)):\n",
    "    output_text.append(pdf_reader.pages[pageNumber].extract_text())\n",
    "\n",
    "len(output_text) # Number of pages\n",
    "output_text[3] # Print context of page 3 from the pdf file\n"
   ]
  },
  {
   "cell_type": "code",
   "execution_count": 64,
   "metadata": {},
   "outputs": [],
   "source": [
    "# Build a drive link using data in a csv file\n",
    "f = open('find_the_link.csv','r')\n",
    "csv_reader = csv.reader(f)\n",
    "csv_reader_list = list(csv_reader)\n",
    "\n",
    "link_str = ''\n",
    "\n",
    "for row_number,data in enumerate(csv_reader_list):\n",
    "    link_str += data[row_number]\n",
    "link_str\n",
    "f.close()"
   ]
  },
  {
   "cell_type": "code",
   "execution_count": 78,
   "metadata": {},
   "outputs": [
    {
     "name": "stdout",
     "output_type": "stream",
     "text": [
      "<re.Match object; span=(42905, 42917), match='505.503.4455'>\n"
     ]
    },
    {
     "data": {
      "text/plain": [
       "\"a \\nwhat's the status on the deliverables for eow? Can you call Saul Goodman for me? His \\nphone number is 505.503.4455. So horsehea\""
      ]
     },
     "execution_count": 78,
     "metadata": {},
     "output_type": "execute_result"
    }
   ],
   "source": [
    "# Extract number 505 503 4455 from pdf file\n",
    "import PyPDF2\n",
    "import re \n",
    "\n",
    "pattern = r'\\d{3}\\.\\d{3}\\.\\d{4}'\n",
    "\n",
    "f = open('Find_the_Phone_Number.pdf','rb')\n",
    "pdf_reader = PyPDF2.PdfReader(f)\n",
    "len(pdf_reader.pages)\n",
    "\n",
    "all_text = []\n",
    "output_text = ''\n",
    "\n",
    "for page in range (len(pdf_reader.pages)):\n",
    "    all_text.append(pdf_reader.pages[page].extract_text())\n",
    "output_text = output_text.join(all_text)\n",
    "\n",
    "for match in re.finditer(pattern,output_text):\n",
    "    print(match)\n"
   ]
  }
 ],
 "metadata": {
  "kernelspec": {
   "display_name": "base",
   "language": "python",
   "name": "python3"
  },
  "language_info": {
   "codemirror_mode": {
    "name": "ipython",
    "version": 3
   },
   "file_extension": ".py",
   "mimetype": "text/x-python",
   "name": "python",
   "nbconvert_exporter": "python",
   "pygments_lexer": "ipython3",
   "version": "3.9.13"
  }
 },
 "nbformat": 4,
 "nbformat_minor": 2
}
