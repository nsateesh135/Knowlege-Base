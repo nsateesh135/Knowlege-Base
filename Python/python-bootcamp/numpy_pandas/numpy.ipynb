{
 "cells": [
  {
   "cell_type": "code",
   "execution_count": null,
   "metadata": {},
   "outputs": [],
   "source": [
    "# Numpy: Numerical Python- Linear Algebra Library for Python\n",
    "# Numpy is incredibly fast as it has bindings to C libraries\n",
    "# pip install numpy\n",
    "# ndarray(N-dimentional array) : Collection of items of the same type which are accessed using zero based index"
   ]
  },
  {
   "cell_type": "code",
   "execution_count": 34,
   "metadata": {},
   "outputs": [
    {
     "name": "stdout",
     "output_type": "stream",
     "text": [
      "<class 'numpy.ndarray'>\n",
      "(3,)\n",
      "int64\n"
     ]
    }
   ],
   "source": [
    "# Convert list to a 1D array\n",
    "import numpy as np\n",
    "my_list = [10,20,30]\n",
    "arr = np.array(my_list)\n",
    "print(type(arr)) # The output of 1D array: [10,20,30]\n",
    "print(arr.shape) # The shape of 1D array(either row or column) : (3,)\n",
    "print(arr.dtype) # The data type within an array :int64"
   ]
  },
  {
   "cell_type": "code",
   "execution_count": 35,
   "metadata": {},
   "outputs": [
    {
     "name": "stdout",
     "output_type": "stream",
     "text": [
      "[[1 2 3]\n",
      " [4 5 6]\n",
      " [7 8 9]]\n",
      "(3, 3)\n",
      "int64\n"
     ]
    }
   ],
   "source": [
    "# Convert list of list into 2D array \n",
    "my_list = [[1,2,3],[4,5,6],[7,8,9]]\n",
    "arr_2D = np.array(my_list)\n",
    "print(arr_2D)\n",
    "print(arr_2D.shape)\n",
    "print(arr_2D.dtype)"
   ]
  },
  {
   "cell_type": "code",
   "execution_count": 36,
   "metadata": {},
   "outputs": [
    {
     "name": "stdout",
     "output_type": "stream",
     "text": [
      "25\n",
      "(25,)\n",
      "[[ 1  2  3  4  5]\n",
      " [ 6  7  8  9 10]\n",
      " [11 12 13 14 15]\n",
      " [16 17 18 19 20]\n",
      " [21 22 23 24 25]]\n",
      "(5, 5)\n"
     ]
    }
   ],
   "source": [
    "# Reshape a list into an array \n",
    "\n",
    "my_list = list(range(1,26))\n",
    "print(len(my_list))\n",
    "arr = np.array(my_list)\n",
    "print(arr.shape)\n",
    "\n",
    "arr_reshape = arr.reshape(5,5)\n",
    "print(arr_reshape)\n",
    "print(arr_reshape.shape)\n"
   ]
  },
  {
   "cell_type": "code",
   "execution_count": 26,
   "metadata": {},
   "outputs": [
    {
     "name": "stdout",
     "output_type": "stream",
     "text": [
      "[0 3 6 9]\n",
      "[[0. 0. 0.]\n",
      " [0. 0. 0.]]\n",
      "[[1. 1. 1.]\n",
      " [1. 1. 1.]]\n",
      "[ 0.          1.66666667  3.33333333  5.          6.66666667  8.33333333\n",
      " 10.        ]\n",
      "[[0.9948995  0.72160361 0.22955686 0.25446214]\n",
      " [0.52387185 0.19540724 0.95633531 0.99473097]\n",
      " [0.59159165 0.21438182 0.95330358 0.10192611]]\n",
      "[[-1.63851498 -1.15284642 -0.76890277 -1.49512565]\n",
      " [ 0.34882989 -0.47184052 -0.24561509  1.00280347]\n",
      " [ 0.39157397  1.32935218 -0.65622512  0.72055588]]\n",
      "[15 13 12 12 10 17  1 14  6  4]\n"
     ]
    }
   ],
   "source": [
    "# arange : similar to range in Python \n",
    "print(np.arange(0,10,3))\n",
    "\n",
    "# zeros : Define the number of rows and columns as tuples\n",
    "print(np.zeros(2)) # array([0.,0.])\n",
    "print(np.zeros((2,3)))\n",
    "\n",
    "#ones\n",
    "print(np.ones(3)) # array([1.,1.,1.])\n",
    "print(np.ones((2,3)))\n",
    "\n",
    "# eye :identity matrix\n",
    "print(np.eye(4)) # generates a 4x4 matrix with diagonal as 1 \n",
    "\n",
    "# linspace : Creates 7 evenly distributed numbers between 0 and 10\n",
    "print(np.linspace(0,10,7))\n",
    "\n",
    "# random.rand : Generate randon numbers which are uniformly distributed\n",
    "print(np.random.rand(3,4))\n",
    "\n",
    "# random.randn : Generate randon numbers which are normally distributed\n",
    "print(np.random.randn(3,4))\n",
    "\n",
    "# random.randint : Generate 'X' random numbers between a and b \n",
    "# 10 random numbers between 0 and 20 \n",
    "print(np.random.randint(0,20,10)) \n",
    "\n",
    "arr = np.random.randint(0,50,10)\n",
    "\n",
    "arr.max() # Maximum value in the list \n",
    "arr.argmax() # The index position for the maximum value\n",
    "\n",
    "arr.min() # Minimum value in the list \n",
    "arr.argmin() # The index position for the minimum value"
   ]
  },
  {
   "cell_type": "code",
   "execution_count": 14,
   "metadata": {},
   "outputs": [
    {
     "name": "stdout",
     "output_type": "stream",
     "text": [
      "[ 0  1  2  3  4  5  6  7  8  9 10]\n"
     ]
    },
    {
     "data": {
      "text/plain": [
       "array([1, 2, 3, 4])"
      ]
     },
     "execution_count": 14,
     "metadata": {},
     "output_type": "execute_result"
    }
   ],
   "source": [
    "# Indexing and Selection \n",
    "import numpy as np\n",
    "arr = np.arange(0,11)\n",
    "print(arr)\n",
    "\n",
    "# 1D indexing and slicing \n",
    "arr[8] # 8 \n",
    "arr[1:5] # 1,2,3,4\n"
   ]
  },
  {
   "cell_type": "code",
   "execution_count": 29,
   "metadata": {},
   "outputs": [
    {
     "name": "stdout",
     "output_type": "stream",
     "text": [
      "[[ 5 10 15]\n",
      " [20 25 30]\n",
      " [35 40 45]]\n",
      "[ 5 10 15]\n",
      "[10 25 40]\n",
      "[30 45]\n"
     ]
    }
   ],
   "source": [
    "# 2D indexing and slicing\n",
    "arr_2d = np.array(([5,10,15],[20,25,30],[35,40,45]))\n",
    "print(arr_2d)\n",
    "print(arr_2d[0]) # 1st row values\n",
    "print(arr_2d[:,1]) # 2nd column values\n",
    "print(arr_2d[1:,2]) # Out of last 2 rows given me column 2 values"
   ]
  },
  {
   "cell_type": "code",
   "execution_count": 37,
   "metadata": {},
   "outputs": [
    {
     "name": "stdout",
     "output_type": "stream",
     "text": [
      "[[0. 0. 0. 0. 0. 0. 0. 0. 0. 0.]\n",
      " [1. 1. 1. 1. 1. 1. 1. 1. 1. 1.]\n",
      " [2. 2. 2. 2. 2. 2. 2. 2. 2. 2.]\n",
      " [3. 3. 3. 3. 3. 3. 3. 3. 3. 3.]\n",
      " [4. 4. 4. 4. 4. 4. 4. 4. 4. 4.]\n",
      " [5. 5. 5. 5. 5. 5. 5. 5. 5. 5.]\n",
      " [6. 6. 6. 6. 6. 6. 6. 6. 6. 6.]\n",
      " [7. 7. 7. 7. 7. 7. 7. 7. 7. 7.]\n",
      " [8. 8. 8. 8. 8. 8. 8. 8. 8. 8.]\n",
      " [9. 9. 9. 9. 9. 9. 9. 9. 9. 9.]]\n",
      "[[2. 2. 2. 2. 2. 2. 2. 2. 2. 2.]\n",
      " [4. 4. 4. 4. 4. 4. 4. 4. 4. 4.]\n",
      " [6. 6. 6. 6. 6. 6. 6. 6. 6. 6.]\n",
      " [8. 8. 8. 8. 8. 8. 8. 8. 8. 8.]]\n",
      "[[6. 6. 6. 6. 6. 6. 6. 6. 6. 6.]\n",
      " [4. 4. 4. 4. 4. 4. 4. 4. 4. 4.]\n",
      " [3. 3. 3. 3. 3. 3. 3. 3. 3. 3.]\n",
      " [1. 1. 1. 1. 1. 1. 1. 1. 1. 1.]]\n"
     ]
    }
   ],
   "source": [
    "# Fancy Indexing \n",
    "arr2d = np.zeros((10,10))\n",
    "arr_length = arr2d.shape[1]\n",
    "\n",
    "for i in range(arr_length):\n",
    "    arr2d[i] = i \n",
    "\n",
    "print(arr2d)\n",
    "print(arr2d[[2,4,6,8]])\n",
    "print(arr2d[[6,4,3,1]]) # indexing in any order"
   ]
  },
  {
   "cell_type": "code",
   "execution_count": 15,
   "metadata": {},
   "outputs": [
    {
     "data": {
      "text/plain": [
       "array([ 0,  1,  2,  3,  4,  5,  6,  7,  8,  9, 10])"
      ]
     },
     "execution_count": 15,
     "metadata": {},
     "output_type": "execute_result"
    }
   ],
   "source": [
    "# Broadcasting\n",
    "arr\n",
    "slice_of_arr = arr[0:6]\n",
    "slice_of_arr\n",
    "\n",
    "# Do operation on the slice \n",
    "slice_of_arr[:] = 99\n",
    "slice_of_arr\n",
    "\n",
    "# The changes we do on the slice is getting copied over to the main array. \n",
    "# This is done to avoid memory problems\n",
    "arr \n"
   ]
  },
  {
   "cell_type": "code",
   "execution_count": 38,
   "metadata": {},
   "outputs": [],
   "source": [
    "# Operations \n",
    "arr = np.arange(0,10)\n",
    "\n",
    "print(arr)\n",
    "\n",
    "arr + arr  # addition \n",
    "\n",
    "arr - arr # Subtraction\n",
    "\n",
    "arr * arr # Multiplication \n",
    "\n",
    "arr / arr # Division ( warning division by zero, replaced with nan)\n",
    "\n",
    "1/ arr  # 0/1 is infinity warning not an error, replaced with inf\n",
    "\n",
    "arr * 3 \n",
    "\n",
    "# Universal Array Functions \n",
    "np.sqrt(arr) # Square root of an array \n",
    "\n",
    "np.exp(arr) # Exponencial of an array (e^)\n",
    "\n",
    "np.max(arr) # Maximum value in an array \n",
    "\n",
    "np.sin(arr) # sine value of an array \n",
    "\n",
    "np.log(arr) # log value of an array "
   ]
  }
 ],
 "metadata": {
  "kernelspec": {
   "display_name": "base",
   "language": "python",
   "name": "python3"
  },
  "language_info": {
   "codemirror_mode": {
    "name": "ipython",
    "version": 3
   },
   "file_extension": ".py",
   "mimetype": "text/x-python",
   "name": "python",
   "nbconvert_exporter": "python",
   "pygments_lexer": "ipython3",
   "version": "3.9.13"
  },
  "orig_nbformat": 4
 },
 "nbformat": 4,
 "nbformat_minor": 2
}
