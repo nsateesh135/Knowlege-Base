{
 "cells": [
  {
   "cell_type": "code",
   "execution_count": null,
   "metadata": {},
   "outputs": [],
   "source": [
    "# Steps to send mail usig Python \n",
    "# 1. Connect to email server \n",
    "# 2. Confirming connection \n",
    "# 3. Setting a protocol \n",
    "# 4. Logging on \n",
    "# 5. Sending the message\n",
    "\n",
    "# smtplib(simple mail transfer protocol) library in Python does the above steps for us \n",
    "\n",
    "# gmail smtp : smtp.gmail.com\n",
    "# Yahoo : smtp.mail.yahoo.com\n",
    "# Outlook.com/Hotmail.com : smtp-mail.outlook.com\n",
    "\n",
    "# Process to work with gmail\n",
    "# Step 1: Create a SMTP object using smtp library \n",
    "# Step 2: Connect to gmail server by specifying port number (587(TLS encryption),465(SSL encryption))\n",
    "# Step 3: To initiate connection to gmail server use ehlo method\n",
    "# Step 4: If you are using 587 as port number then use starttls() method to initiate TLS encryption\n",
    "# Step 5: Use login method with email and app password to login \n",
    "\n",
    "\n",
    "# How to generate app password (https://support.google.com/accounts/answer/185833?hl=en)\n",
    "# Step 1: Set up 2FA on gmail account \n",
    "# Step 2: Under security choose app password\n",
    "# Step 3: Choose App Type: mail, Other: name of the app \n",
    "# Step 4: Copy the app password on your local "
   ]
  },
  {
   "cell_type": "code",
   "execution_count": null,
   "metadata": {},
   "outputs": [],
   "source": [
    "# Send mail \n",
    "import smtplib\n",
    "import getpass # This library is used while to hide values while we enter passwords\n",
    "\n",
    "smtp_object  = smtplib.SMTP(\"smtp.gmail.com\",25)\n",
    "smtp_object.connect(\"smtp.gmail.com\",587)\n",
    "smtp_object.ehlo()\n",
    "smtp_object.starttls()\n",
    "\n",
    "email = getpass.getpass(\"Email:\")\n",
    "password = getpass.getpass(\"Password:\")\n",
    "smtp_object.login(email,password)\n",
    "\n",
    "from_address = email\n",
    "to_address = email \n",
    "subject = \"Test email\"\n",
    "message = \"Success!!\"\n",
    "msg = \"Subject: \"+subject+'\\n'+message\n",
    "\n",
    "smtp_object.sendmail(from_address,to_address,msg)\n",
    "\n",
    "smtp_object.quit()"
   ]
  },
  {
   "cell_type": "code",
   "execution_count": 2,
   "metadata": {},
   "outputs": [
    {
     "data": {
      "text/plain": [
       "('OK', [b'nehalsateeshkumar@gmail.com authenticated (Success)'])"
      ]
     },
     "execution_count": 2,
     "metadata": {},
     "output_type": "execute_result"
    }
   ],
   "source": [
    "# Receiving Email \n",
    "# imaplib :Built-In library used to read email\n",
    "\n",
    "import imaplib\n",
    "import getpass\n",
    "\n",
    "m = imaplib.IMAP4_SSL('imap.gmail.com')\n",
    "\n",
    "email = getpass.getpass('Email:')\n",
    "password = getpass.getpass('Password:')\n",
    "\n",
    "m.login(email,password)\n"
   ]
  },
  {
   "cell_type": "code",
   "execution_count": 3,
   "metadata": {},
   "outputs": [
    {
     "data": {
      "text/plain": [
       "('OK',\n",
       " [b'(\\\\HasNoChildren) \"/\" \"Electricity Bill\"',\n",
       "  b'(\\\\HasNoChildren) \"/\" \"INBOX\"',\n",
       "  b'(\\\\HasNoChildren) \"/\" \"Water Bill\"',\n",
       "  b'(\\\\HasChildren \\\\Noselect) \"/\" \"[Gmail]\"',\n",
       "  b'(\\\\All \\\\HasNoChildren) \"/\" \"[Gmail]/All Mail\"',\n",
       "  b'(\\\\Drafts \\\\HasNoChildren) \"/\" \"[Gmail]/Drafts\"',\n",
       "  b'(\\\\HasNoChildren \\\\Important) \"/\" \"[Gmail]/Important\"',\n",
       "  b'(\\\\HasNoChildren \\\\Sent) \"/\" \"[Gmail]/Sent Mail\"',\n",
       "  b'(\\\\HasNoChildren \\\\Junk) \"/\" \"[Gmail]/Spam\"',\n",
       "  b'(\\\\Flagged \\\\HasNoChildren) \"/\" \"[Gmail]/Starred\"',\n",
       "  b'(\\\\HasNoChildren \\\\Trash) \"/\" \"[Gmail]/Trash\"',\n",
       "  b'(\\\\HasNoChildren) \"/\" \"&JxQ-\"',\n",
       "  b'(\\\\HasNoChildren) \"/\" \"&JxQnFA-\"'])"
      ]
     },
     "execution_count": 3,
     "metadata": {},
     "output_type": "execute_result"
    }
   ],
   "source": [
    "# To provide a list of labels/categories from which we want to read emails\n",
    "m.list()"
   ]
  },
  {
   "cell_type": "code",
   "execution_count": 4,
   "metadata": {},
   "outputs": [
    {
     "data": {
      "text/plain": [
       "('OK', [b'1666'])"
      ]
     },
     "execution_count": 4,
     "metadata": {},
     "output_type": "execute_result"
    }
   ],
   "source": [
    "# Choose category as inbox i.e. this will read emails only from inbox\n",
    "m.select('inbox')"
   ]
  },
  {
   "cell_type": "code",
   "execution_count": 5,
   "metadata": {},
   "outputs": [],
   "source": [
    "# Here we are searching subject. we can also do date from, date to. refer imaplib library documentation\n",
    "typ,data = m.search(None,'SUBJECT \"Test email\"')"
   ]
  },
  {
   "cell_type": "code",
   "execution_count": 6,
   "metadata": {},
   "outputs": [
    {
     "data": {
      "text/plain": [
       "'OK'"
      ]
     },
     "execution_count": 6,
     "metadata": {},
     "output_type": "execute_result"
    }
   ],
   "source": [
    "# typ :will indicate if the search was successful \n",
    "typ"
   ]
  },
  {
   "cell_type": "code",
   "execution_count": 7,
   "metadata": {},
   "outputs": [
    {
     "data": {
      "text/plain": [
       "[b'1666']"
      ]
     },
     "execution_count": 7,
     "metadata": {},
     "output_type": "execute_result"
    }
   ],
   "source": [
    "# data : will provide an email_id. If null value is provided then no email found\n",
    "data"
   ]
  },
  {
   "cell_type": "code",
   "execution_count": 8,
   "metadata": {},
   "outputs": [],
   "source": [
    "email_id = data[0]\n",
    "result, email_data = m.fetch(email_id,'(RFC822)')\n",
    "raw_email = email_data[0][1]\n",
    "raw_email_string = raw_email.decode('utf-8')"
   ]
  },
  {
   "cell_type": "code",
   "execution_count": 11,
   "metadata": {},
   "outputs": [
    {
     "name": "stdout",
     "output_type": "stream",
     "text": [
      "b'Success!!\\r\\n'\n"
     ]
    }
   ],
   "source": [
    "import email\n",
    "\n",
    "email_message = email.message_from_string(raw_email_string)\n",
    "\n",
    "for part in email_message.walk():\n",
    "    if part.get_content_type() == 'text/plain': # we can have 'text/html' to display hyperlink in mail(s)\n",
    "        body = part.get_payload(decode = True)\n",
    "        print(body)"
   ]
  }
 ],
 "metadata": {
  "kernelspec": {
   "display_name": "base",
   "language": "python",
   "name": "python3"
  },
  "language_info": {
   "codemirror_mode": {
    "name": "ipython",
    "version": 3
   },
   "file_extension": ".py",
   "mimetype": "text/x-python",
   "name": "python",
   "nbconvert_exporter": "python",
   "pygments_lexer": "ipython3",
   "version": "3.9.13"
  },
  "orig_nbformat": 4
 },
 "nbformat": 4,
 "nbformat_minor": 2
}
