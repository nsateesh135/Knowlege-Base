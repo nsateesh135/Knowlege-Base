{
 "cells": [
  {
   "cell_type": "code",
   "execution_count": null,
   "metadata": {},
   "outputs": [],
   "source": [
    "# Tuples are similar to lists but they are immutable\n",
    "# Makes sure value for variables are not chnaged accidently in production code i.e maintains data integriety"
   ]
  },
  {
   "cell_type": "code",
   "execution_count": 10,
   "metadata": {},
   "outputs": [
    {
     "name": "stdout",
     "output_type": "stream",
     "text": [
      "('batsman', 'bowler', 'fielder', 'umpire', 'batsman')\n",
      "('hello', True, 3, 1.35)\n",
      "batsman\n",
      "('batsman', 'bowler')\n",
      "0\n",
      "2\n"
     ]
    }
   ],
   "source": [
    "cricket = ('batsman','bowler','fielder','umpire','batsman')\n",
    "print(cricket)\n",
    "\n",
    "# Length of a tuple\n",
    "len(cricket)\n",
    "\n",
    "mixed_datatype = ('hello',True,3,1.35)\n",
    "print(mixed_datatype)\n",
    "\n",
    "# Indexing and slicing \n",
    "print(cricket[0])\n",
    "print(cricket[0:2])\n",
    "\n",
    "#Methods \n",
    "\n",
    "print(cricket.index('batsman')) # provides index position for chosen elements. If the elements are repeated more than once then provodes the first index position of its occurence\n",
    "print(cricket.count('batsman')) #counts the number of occurances of the element on a tuple\n",
    "\n"
   ]
  }
 ],
 "metadata": {
  "kernelspec": {
   "display_name": "base",
   "language": "python",
   "name": "python3"
  },
  "language_info": {
   "codemirror_mode": {
    "name": "ipython",
    "version": 3
   },
   "file_extension": ".py",
   "mimetype": "text/x-python",
   "name": "python",
   "nbconvert_exporter": "python",
   "pygments_lexer": "ipython3",
   "version": "3.9.13"
  },
  "orig_nbformat": 4
 },
 "nbformat": 4,
 "nbformat_minor": 2
}
