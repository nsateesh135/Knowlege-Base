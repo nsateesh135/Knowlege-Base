{
 "cells": [
  {
   "cell_type": "code",
   "execution_count": null,
   "metadata": {},
   "outputs": [],
   "source": [
    "# Strings are used to record text information\n",
    "# Strings in Python are sequences, so every element is stored in memory so it can be retrieved\n",
    "# Strings are immutable i.e the value of the string cant be changed in position"
   ]
  },
  {
   "cell_type": "code",
   "execution_count": 16,
   "metadata": {},
   "outputs": [
    {
     "name": "stdout",
     "output_type": "stream",
     "text": [
      "This is a string I'm still a string!\n",
      "19\n",
      "g\n",
      "Hello World!\n",
      "THIS IS A STRING\n",
      "this is a string\n",
      "['This', 'is', 'a', 'string']\n",
      "The price of 6 eggs is 4.8.\n"
     ]
    }
   ],
   "source": [
    "x = \"This is a string\"\n",
    "y = \"I'm still a string!\" # to print quotes in a text enclose them within double quotation marks \n",
    "print(x,y)\n",
    "\n",
    "# Rule of Thumb: If you want to use escape charaters like \\n.\\t include them in the text as shown above\n",
    "\n",
    "# Length of a string \n",
    "# The length will include white spaces and special characters\n",
    "print(len(y))\n",
    "\n",
    "# Indexing \n",
    "# Indexing in Python starts from 0 \n",
    "x[0] # Output : T\n",
    "print(x[-1]) #Output: g, prints last element in the sequence \n",
    "#Slicing \n",
    "# x[start:stop:size]\n",
    "# x[::] prints everything\n",
    "# x[::1] Grab everything but go in steps size of 1 \n",
    "x[1:] # From first term all the way to the length of x \n",
    "x[:3] # Grab everything until third term, Third term excluded \n",
    "x[::-1] # Print a string backward \n",
    "\n",
    "# String Concatenation \n",
    "# We can use + to concatenate 2 strings\n",
    "print(\"Hello \" + \"World!\")\n",
    "\n",
    "# Methods \n",
    "print(x.upper())\n",
    "print(x.lower())\n",
    "print(x.split())\n",
    "\n",
    "# Print Formatting \n",
    "price = 4.8\n",
    "quantity = 6\n",
    "print(\"The price of {} eggs is {}.\".format(quantity,price))\n"
   ]
  }
 ],
 "metadata": {
  "kernelspec": {
   "display_name": "base",
   "language": "python",
   "name": "python3"
  },
  "language_info": {
   "codemirror_mode": {
    "name": "ipython",
    "version": 3
   },
   "file_extension": ".py",
   "mimetype": "text/x-python",
   "name": "python",
   "nbconvert_exporter": "python",
   "pygments_lexer": "ipython3",
   "version": "3.9.13"
  },
  "orig_nbformat": 4
 },
 "nbformat": 4,
 "nbformat_minor": 2
}
