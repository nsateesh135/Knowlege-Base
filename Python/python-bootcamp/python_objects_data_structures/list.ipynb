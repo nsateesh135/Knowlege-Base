{
 "cells": [
  {
   "cell_type": "code",
   "execution_count": null,
   "metadata": {},
   "outputs": [],
   "source": [
    "# Lists are general version of sequence in Python \n",
    "# They are mutable i.e. the elements inside a list can be changed\n",
    "# Lists can contain more than one data type"
   ]
  },
  {
   "cell_type": "code",
   "execution_count": 23,
   "metadata": {},
   "outputs": [
    {
     "name": "stdout",
     "output_type": "stream",
     "text": [
      "['Bangalore', 'Chennai', 'Hyderabad']\n",
      "['Hello', 3, True, 34.5]\n",
      "Bangalore\n",
      "['Bangalore', 'Chennai']\n",
      "['Hyderabad', 'Chennai', 'Bangalore']\n",
      "['Bangalore', 'Chennai', 'Hyderabad', 'Delhi']\n",
      "['Bangalore', 'Chennai', 'Hyderabad', 'Delhi', 'Mumbai']\n",
      "['Bangalore', 'Chennai', 'Hyderabad', 'Delhi']\n",
      "['Delhi', 'Hyderabad', 'Chennai', 'Bangalore']\n",
      "['Bangalore', 'Chennai', 'Delhi', 'Hyderabad']\n",
      "[['nehal', 'nick', 'raj'], [28, 35, 32], ['cricket', 'basketball', 'football']]\n",
      "[0, 2, 4, 6, 8, 10, 12, 14, 16, 18, 20, 22, 24, 26, 28, 30, 32, 34, 36, 38, 40, 42, 44, 46, 48, 50, 52, 54, 56, 58, 60, 62, 64, 66, 68, 70, 72, 74, 76, 78, 80, 82, 84, 86, 88, 90, 92, 94, 96, 98, 100]\n"
     ]
    }
   ],
   "source": [
    "cities = ['Bangalore','Chennai','Hyderabad']\n",
    "type(cities)\n",
    "print(cities)\n",
    "\n",
    "mixed_list = ['Hello',3,True,34.5]\n",
    "type(list)\n",
    "print(mixed_list)\n",
    "\n",
    "# Length of a list \n",
    "len(cities)\n",
    "\n",
    "#Indexing \n",
    "print(cities[0])\n",
    "\n",
    "# Slicing\n",
    "print(cities[0:2]) # grab everything up to index 2 \n",
    "print(cities[::-1]) # reverse elements in a list\n",
    "\n",
    "#adding elements to a list \n",
    "# When you are adding elements into a list this way we need to re-assign \n",
    "# to a new variable like below\n",
    "cities = cities + ['Delhi']\n",
    "print(cities)\n",
    "\n",
    "# Methods \n",
    "cities.append('Mumbai') # Add elements into a list \n",
    "print(cities)\n",
    "cities.pop() #Removes elements from a list. By default removes last element but we can specify index number\n",
    "print(cities)\n",
    "\n",
    "cities.reverse() # Reverses the elements in a list \n",
    "print(cities)\n",
    "\n",
    "cities.sort() # sorts elements in a list by default ascending\n",
    "print(cities)\n",
    "\n",
    "# Nesting lists \n",
    "\n",
    "customer_profile = [['nehal','nick','raj'],[28,35,32],['cricket','basketball','football']]\n",
    "print(customer_profile)\n",
    "\n",
    "customer_profile[0] \n",
    "customer_profile[:2]\n",
    "customer_profile[0][0] # Output: nehal \n",
    "\n",
    "# List Comprehension\n",
    "# Create a list with only even numbers between 0-100\n",
    "\n",
    "even_numbers = [i for i in range(0,101) if i%2==0]\n",
    "print(even_numbers)"
   ]
  }
 ],
 "metadata": {
  "kernelspec": {
   "display_name": "base",
   "language": "python",
   "name": "python3"
  },
  "language_info": {
   "codemirror_mode": {
    "name": "ipython",
    "version": 3
   },
   "file_extension": ".py",
   "mimetype": "text/x-python",
   "name": "python",
   "nbconvert_exporter": "python",
   "pygments_lexer": "ipython3",
   "version": "3.9.13"
  },
  "orig_nbformat": 4
 },
 "nbformat": 4,
 "nbformat_minor": 2
}
