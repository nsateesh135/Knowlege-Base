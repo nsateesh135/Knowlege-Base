{
 "cells": [
  {
   "cell_type": "code",
   "execution_count": 3,
   "metadata": {},
   "outputs": [
    {
     "name": "stdout",
     "output_type": "stream",
     "text": [
      "I'm going to inject something here.\n",
      "I'm going to inject some text here, and more text here\n",
      "I usually have 2 slices of bread and 4 eggs for breakfast.\n",
      "Hey leather shoes are my favourite\n",
      "Hey 'leather' shoes are my favourite\n",
      "I wrote 3.2 programs today\n",
      "I wrote 3 programs today\n",
      "Floating point numbers:13.44\n",
      "Floating point numbers are:13.44 and   13.440\n",
      "This is a string, 23 is a integer and 13.44 is a floating point number\n"
     ]
    }
   ],
   "source": [
    "# Formatting with placeholders\n",
    "# %s inserts a string, % is known as string formatting operator\n",
    "\n",
    "print(\"I'm going to inject %s here.\"%'something')\n",
    "print(\"I'm going to inject %s text here, and %s text here\"%('some','more'))\n",
    "\n",
    "x= \"eggs\"\n",
    "y =\"bread\"\n",
    "print(\"I usually have 2 slices of %s and 4 %s for breakfast.\"%(y,x))\n",
    "\n",
    "# %r returns quotation marks as well as escape characters \n",
    "print(\"Hey %s shoes are my favourite\"%('leather'))\n",
    "print(\"Hey %r shoes are my favourite\"%('leather'))\n",
    "\n",
    "print(\"I wrote %s programs today\"%3.2) # Here 3.2 is being converted into a string \n",
    "print(\"I wrote %d programs today\"%3.4)\n",
    "\n",
    "# Printing floating point numbers \n",
    "# 5: minimum number of characters the string should contain\n",
    "# .2f: hw many numbers to show past the decimal point\n",
    "print('Floating point numbers:%5.2f'%13.444)\n",
    "print('Floating point numbers are:%5.2f and %8.3f'%(13.444,13.44))\n",
    "\n",
    "print(\"This is a %s, %d is a integer and %1.2f is a floating point number\"%('string',23,13.44))"
   ]
  },
  {
   "cell_type": "code",
   "execution_count": 8,
   "metadata": {},
   "outputs": [
    {
     "name": "stdout",
     "output_type": "stream",
     "text": [
      "The quick brown fox\n",
      "First Object: 1, Second Object: Two, Third Object: 12.3\n",
      "fruit    | quantity \n",
      "Left Alignment |  Centre  | Right Alignment\n",
      "First---------- | Second-------------------\n",
      "This is a floating point number 13.46\n",
      "This is a new feature in Python 3.63.\n"
     ]
    }
   ],
   "source": [
    "# Formatting with .format() method\n",
    "print('The {2} {1} {0}'.format('fox','brown','quick'))\n",
    "print('First Object: {a}, Second Object: {b}, Third Object: {c}'.format(a=1,b='Two',c=12.3))\n",
    "\n",
    "# padding \n",
    "# In the below example {0:8}, 0 is the index from which we need to fetch value \n",
    "# and 8 is the number of chracters we require\n",
    "# 0 fetches fruit with minimum of 8 characteres this includes the word fruit\n",
    "print(\"{0:8} | {1:9}\".format('fruit','quantity'))\n",
    "\n",
    "#Alignment \n",
    "print('{0:<8} | {1:^8} | {2:>8}'.format('Left Alignment','Centre','Right Alignment'))\n",
    "# Lets say we don't want to add space for padding then use below example\n",
    "# Note we need to explicitly provide alignment \n",
    "print('{0:-<15} | {1:-<25}'.format('First','Second'))\n",
    "\n",
    "#Precision \n",
    "print(\"This is a floating point number {0:5.2f}\".format(13.4555))\n",
    "\n",
    "#f-Strings\n",
    "language = \"Python\"\n",
    "version = 3.63455\n",
    "print(f\"This is a new feature in {language} {version:2.2f}.\")\n"
   ]
  }
 ],
 "metadata": {
  "kernelspec": {
   "display_name": "base",
   "language": "python",
   "name": "python3"
  },
  "language_info": {
   "codemirror_mode": {
    "name": "ipython",
    "version": 3
   },
   "file_extension": ".py",
   "mimetype": "text/x-python",
   "name": "python",
   "nbconvert_exporter": "python",
   "pygments_lexer": "ipython3",
   "version": "3.9.13"
  },
  "orig_nbformat": 4
 },
 "nbformat": 4,
 "nbformat_minor": 2
}
