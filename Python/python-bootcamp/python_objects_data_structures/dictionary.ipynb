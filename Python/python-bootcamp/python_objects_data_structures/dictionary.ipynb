{
 "cells": [
  {
   "cell_type": "code",
   "execution_count": null,
   "metadata": {},
   "outputs": [],
   "source": [
    "# Dictionary are like mapping in Python \n",
    "# Something like key:value pairs"
   ]
  },
  {
   "cell_type": "code",
   "execution_count": 4,
   "metadata": {},
   "outputs": [
    {
     "name": "stdout",
     "output_type": "stream",
     "text": [
      "{'cities': ['Bangalore', 'Chennai', 'Hyderabad'], 'weather': ['unpredictable', 'always hot', 'plesant']}\n",
      "Bangalore is found to have an unpredictable weather.\n",
      "{'cities': ['bangalore', 'Chennai']}\n",
      "{'key1': {'cities': ['Bangalore', 'Chennai', 'Delhi']}, 'key2': {'weather': ['unpredictable', 'very hot', 'pleasant']}}\n",
      "dict_keys(['key1', 'key2'])\n",
      "dict_values([{'cities': ['Bangalore', 'Chennai', 'Delhi']}, {'weather': ['unpredictable', 'very hot', 'pleasant']}])\n",
      "dict_items([('key1', {'cities': ['Bangalore', 'Chennai', 'Delhi']}), ('key2', {'weather': ['unpredictable', 'very hot', 'pleasant']})])\n"
     ]
    }
   ],
   "source": [
    "indian_cities = {\"cities\":['Bangalore','Chennai','Hyderabad'],\"weather\":[\"unpredictable\",\"always hot\",\"plesant\"]}\n",
    "print(indian_cities)\n",
    "\n",
    "# print values for only cities \n",
    "indian_cities['cities']\n",
    "\n",
    "#Print values for Bangalore\n",
    "print(f\"{indian_cities['cities'][0]} is found to have an {indian_cities['weather'][0]} weather.\")\n",
    "\n",
    "# Create a empty dictionary \n",
    "empty_dictionary = {}\n",
    "\n",
    "# add elements into an empty dictionary\n",
    "empty_dictionary['cities'] = ['bangalore','Chennai','Delhi']\n",
    "\n",
    "# removing elements in an exsisting dictionary \n",
    "# re-write the key-value pairs\n",
    "empty_dictionary['cities'] = ['bangalore','Chennai']\n",
    "print(empty_dictionary)\n",
    "\n",
    "# Nesting dictionary\n",
    "nested_dictionary = {'key1':{'cities':['Bangalore','Chennai','Delhi']},'key2':{'weather':['unpredictable','very hot','pleasant']}}\n",
    "\n",
    "print(nested_dictionary)\n",
    "\n",
    "nested_dictionary['key1']\n",
    "nested_dictionary['key1']['cities']\n",
    "nested_dictionary['key1']['cities'][0] # Output: Bangalore\n",
    "\n",
    "# Methods \n",
    "print(nested_dictionary.keys()) # Outputs all available keys\n",
    "\n",
    "print(nested_dictionary.values()) # Outputs all available values for keys\n",
    "\n",
    "print(nested_dictionary.items()) # Outputs key and values enclosed in tuples "
   ]
  }
 ],
 "metadata": {
  "kernelspec": {
   "display_name": "base",
   "language": "python",
   "name": "python3"
  },
  "language_info": {
   "codemirror_mode": {
    "name": "ipython",
    "version": 3
   },
   "file_extension": ".py",
   "mimetype": "text/x-python",
   "name": "python",
   "nbconvert_exporter": "python",
   "pygments_lexer": "ipython3",
   "version": "3.9.13"
  },
  "orig_nbformat": 4
 },
 "nbformat": 4,
 "nbformat_minor": 2
}
