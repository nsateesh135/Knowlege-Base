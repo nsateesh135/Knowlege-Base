{
 "cells": [
  {
   "cell_type": "code",
   "execution_count": 2,
   "metadata": {},
   "outputs": [
    {
     "name": "stdout",
     "output_type": "stream",
     "text": [
      "3\n",
      "-3\n",
      "<class 'int'>\n",
      "1.2\n",
      "400.0\n",
      "5\n",
      "5955000.0\n",
      "6\n",
      "1.5\n",
      "1\n",
      "1\n",
      "9\n",
      "2.0\n",
      "156\n",
      "Hello\n",
      "20\n"
     ]
    }
   ],
   "source": [
    "# Integers \n",
    "print(3)\n",
    "print(-3)\n",
    "print(type(-3))\n",
    "\n",
    "# Floating Point Numbers\n",
    "print(1.2)\n",
    "print(4E2) # This is interpreted as 4*10^2\n",
    "\n",
    "# Basic Arthmetic \n",
    "print(3+2)\n",
    "print(60E5-45E3)\n",
    "print(3*2)\n",
    "print(3/2)\n",
    "print(3//2) # Output: 1, because this is floor division \n",
    "print(3%2) # Output: 1, because this is modulo operator which returns remainder after division\n",
    "print(3**2) # Output: 9\n",
    "print(4**0.5) # Output : 2 \n",
    "print((2+10)*(10+3)) # Output: 156, beacuse order of operation follows BODMAS method\n",
    "\n",
    "# Variable Assignment \n",
    "# Python is a strongly typed and dynamic typed language which means we dont need to explicity define a variable as integer before using it \n",
    "\n",
    "a = 5\n",
    "a = \"Hello\" # Re-assignment works fine without explicitly defining data type\n",
    "print(a)\n",
    "\n",
    "# Use type() to check the datatype \n",
    "a = \"Hey its 2 but I am a string\"\n",
    "type(a)\n",
    "\n",
    "# Reassigmnet variables\n",
    "a = 10\n",
    "a+=10 # a = a+10\n",
    "print(a) # Output : 20\n",
    "# Similarly we can do this for -=. *=. /="
   ]
  },
  {
   "attachments": {},
   "cell_type": "markdown",
   "metadata": {},
   "source": [
    "# Variables Naming Convension\n",
    "The names you use when creating variables need to follow a few rules:\n",
    "\n",
    "1. Names can not start with a number.\n",
    "2. There can be no spaces in the name, use _ instead.\n",
    "3. Can't use any of these symbols :'\",<>/?|\\()!@#$%^&*~-+\n",
    "4. It's considered best practice (PEP8) that names are lowercase.\n",
    "5. Avoid using the characters 'l' (lowercase letter el), 'O' (uppercase letter oh), \n",
    "   or 'I' (uppercase letter eye) as single character variable names.\n",
    "6. Avoid using words that have special meaning in Python like \"list\" and \"str\"\n",
    "\n",
    "**Rule Of Thumb**: It's considered best practice(PEP8) that names are lowercase with underscores "
   ]
  }
 ],
 "metadata": {
  "kernelspec": {
   "display_name": "base",
   "language": "python",
   "name": "python3"
  },
  "language_info": {
   "codemirror_mode": {
    "name": "ipython",
    "version": 3
   },
   "file_extension": ".py",
   "mimetype": "text/x-python",
   "name": "python",
   "nbconvert_exporter": "python",
   "pygments_lexer": "ipython3",
   "version": "3.9.13"
  },
  "orig_nbformat": 4
 },
 "nbformat": 4,
 "nbformat_minor": 2
}
