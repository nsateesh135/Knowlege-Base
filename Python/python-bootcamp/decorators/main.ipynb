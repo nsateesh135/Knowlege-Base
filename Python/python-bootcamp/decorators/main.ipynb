{
 "cells": [
  {
   "cell_type": "code",
   "execution_count": 1,
   "metadata": {},
   "outputs": [
    {
     "data": {
      "text/plain": [
       "'\\n@some_decorator \\ndef simple_function():\\n  pass \\n'"
      ]
     },
     "execution_count": 1,
     "metadata": {},
     "output_type": "execute_result"
    }
   ],
   "source": [
    "# Decorators are used to add some kind of extra functionaliy to an exsisting function\n",
    "# we can start to add @<some decorator> on top of a function to start using it\n",
    "\n",
    "\"\"\"\n",
    "@some_decorator \n",
    "def simple_function():\n",
    "  pass \n",
    "\"\"\""
   ]
  },
  {
   "cell_type": "code",
   "execution_count": 5,
   "metadata": {},
   "outputs": [
    {
     "name": "stdout",
     "output_type": "stream",
     "text": [
      "The hello() function has been executed\n",
      "I am going to return a function!!\n",
      "\t This is the greet() func inside hello!\n"
     ]
    }
   ],
   "source": [
    "# Return one function inside another\n",
    "\n",
    "def hello(name = 'nehal'):\n",
    "    print('The hello() function has been executed')\n",
    "\n",
    "    def greet():\n",
    "        return '\\t This is the greet() func inside hello!'\n",
    "    \n",
    "    def welcome():\n",
    "        return '\\t This is the welcone() func inside hello'\n",
    "    \n",
    "    print(\"I am going to return a function!!\")\n",
    "\n",
    "    if name ==\"nehal\":\n",
    "        return greet \n",
    "    else: \n",
    "        return welcome \n",
    "    \n",
    "my_new_func = hello('nehal')\n",
    "\n",
    "print(my_new_func())"
   ]
  },
  {
   "cell_type": "code",
   "execution_count": 10,
   "metadata": {},
   "outputs": [
    {
     "name": "stdout",
     "output_type": "stream",
     "text": [
      "Other code runs here!\n",
      "Hi Nehal!\n",
      "None\n"
     ]
    }
   ],
   "source": [
    "# Calling one function from another\n",
    "def hello():\n",
    "    return \"Hi Nehal!\"\n",
    "\n",
    "def other(some_def_func):\n",
    "    print(\"Other code runs here!\")\n",
    "    print(some_def_func())\n",
    "\n",
    "print(other(hello))\n"
   ]
  },
  {
   "cell_type": "code",
   "execution_count": 10,
   "metadata": {},
   "outputs": [],
   "source": [
    "def new_decorator(original_func):\n",
    "    def wrap_func():\n",
    "        print('Some extra code, before original function')\n",
    "        original_func()\n",
    "        print('Some extra code,after the original function')\n",
    "    return wrap_func"
   ]
  },
  {
   "cell_type": "code",
   "execution_count": 11,
   "metadata": {},
   "outputs": [
    {
     "name": "stdout",
     "output_type": "stream",
     "text": [
      "Some extra code, before original function\n",
      "I want to be decorated\n",
      "Some extra code,after the original function\n"
     ]
    }
   ],
   "source": [
    "@new_decorator\n",
    "def func_needs_decorator():\n",
    "    print(\"I want to be decorated\")\n",
    "\n",
    "func_needs_decorator()"
   ]
  }
 ],
 "metadata": {
  "kernelspec": {
   "display_name": "base",
   "language": "python",
   "name": "python3"
  },
  "language_info": {
   "codemirror_mode": {
    "name": "ipython",
    "version": 3
   },
   "file_extension": ".py",
   "mimetype": "text/x-python",
   "name": "python",
   "nbconvert_exporter": "python",
   "pygments_lexer": "ipython3",
   "version": "3.9.13"
  },
  "orig_nbformat": 4
 },
 "nbformat": 4,
 "nbformat_minor": 2
}
