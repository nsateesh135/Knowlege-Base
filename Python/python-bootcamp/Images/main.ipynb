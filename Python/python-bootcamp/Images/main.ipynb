{
 "cells": [
  {
   "cell_type": "code",
   "execution_count": 1,
   "metadata": {},
   "outputs": [
    {
     "name": "stdout",
     "output_type": "stream",
     "text": [
      "Requirement already satisfied: pillow in /opt/anaconda3/lib/python3.9/site-packages (9.2.0)\n"
     ]
    }
   ],
   "source": [
    "# ! pip install pillow"
   ]
  },
  {
   "cell_type": "code",
   "execution_count": 11,
   "metadata": {},
   "outputs": [
    {
     "name": "stdout",
     "output_type": "stream",
     "text": [
      "(1993, 1257)\n",
      "example.jpg\n",
      "JPEG (ISO 10918)\n"
     ]
    }
   ],
   "source": [
    "from PIL import Image\n",
    "\n",
    "# Opening an image in your current working directory\n",
    "hd_jpg_image = Image.open('example.jpg')\n",
    "print(hd_jpg_image.size)\n",
    "print(hd_jpg_image.filename)\n",
    "print(hd_jpg_image.format_description)\n",
    "\n",
    "# Crop Image \n",
    "# Use crop method \n",
    "# crop(box=None); here box is 4-tuple (left,upper,right,lower pixel co-ordinate)\n",
    "midway = 1993/2\n",
    "x = midway - 200 \n",
    "w = midway + 200\n",
    "y = 800 \n",
    "h = 1257\n",
    "\n",
    "hd_jpg_image.crop((x,y,w,h))\n",
    "\n",
    "#Pasting Image \n",
    "computer = hd_jpg_image.crop((x,y,w,h))\n",
    "hd_jpg_image.paste(im=computer,box=(0,0))\n",
    "\n",
    "# Resizing an Image \n",
    "hd_jpg_image.resize(3000,2000)\n",
    "\n",
    "#Rotating an Image \n",
    "# Pass angle as an argument (example 90 degrees)\n",
    "hd_jpg_image.rotate(90)\n",
    "\n",
    "#Colour Transparency \n",
    "# Every Image is a colour combination of R(red), G(green) , B(blue) and have transparency values from 0 to 255, where 0 is fully transparent and 255 is the R.G,B colour itself\n",
    "\n",
    "hd_jpg_image.putalpha(0) # fully transparent \n",
    "hd_jpg_image.putalpha(128) # Combination of RGB\n",
    "\n",
    "# Create purple colour by merging RGB images\n",
    "red_image = Image.open('red.jpg')\n",
    "blue_image = Image.open('blue.jpg')\n",
    "blue_image.paste(im=red_image,size = (0,0),mask = \"red_image\")\n",
    "\n",
    "#Saving an image \n",
    "red_image.save('red_image.jpg')"
   ]
  }
 ],
 "metadata": {
  "kernelspec": {
   "display_name": "base",
   "language": "python",
   "name": "python3"
  },
  "language_info": {
   "codemirror_mode": {
    "name": "ipython",
    "version": 3
   },
   "file_extension": ".py",
   "mimetype": "text/x-python",
   "name": "python",
   "nbconvert_exporter": "python",
   "pygments_lexer": "ipython3",
   "version": "3.9.13"
  }
 },
 "nbformat": 4,
 "nbformat_minor": 2
}
