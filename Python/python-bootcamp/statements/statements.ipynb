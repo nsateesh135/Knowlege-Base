{
 "cells": [
  {
   "cell_type": "code",
   "execution_count": 1,
   "metadata": {},
   "outputs": [
    {
     "name": "stdout",
     "output_type": "stream",
     "text": [
      "Welcome back home!\n"
     ]
    }
   ],
   "source": [
    "# if, elif, else \n",
    "\n",
    "my_city = input(\"Please enter your destination:\")\n",
    "\n",
    "if my_city == \"Bangalore\":\n",
    "    print(\"Welcome back home!\")\n",
    "elif my_city == \"Bengaluru\":\n",
    "    print(\"Welcome back Bangalore is now called Bengaluru.\")\n",
    "else:\n",
    "    print(\"This is not your city but we still welcome you.\")\n"
   ]
  },
  {
   "cell_type": "code",
   "execution_count": 16,
   "metadata": {},
   "outputs": [
    {
     "name": "stdout",
     "output_type": "stream",
     "text": [
      "2\n",
      "4\n",
      "56\n",
      "The average height of the students is 166.00\n",
      "1\n",
      "2\n",
      "3\n",
      "4\n",
      "5\n",
      "6\n"
     ]
    }
   ],
   "source": [
    "# For Loops \n",
    "# print even numbers from a list \n",
    "\n",
    "my_list = [1,2,3,4,67,85,65,87,56]\n",
    "\n",
    "for num in my_list:\n",
    "    if num%2==0:\n",
    "        print(num)\n",
    "\n",
    "\n",
    "# Find the average height of students in the class \n",
    "student_height = [156,157,158,167,178,180]\n",
    "length = 0\n",
    "summer = 0\n",
    "\n",
    "for height in student_height:\n",
    "    summer = summer + height\n",
    "    length = length + 1 \n",
    "print(f\"The average height of the students is {summer/length:5.2f}\")\n",
    "\n",
    "\n",
    "#Tuple Unpacking \n",
    "tuple_list  = [(1,2),(3,4),(5,6)]\n",
    "\n",
    "for a,b in tuple_list:\n",
    "    print(a)\n",
    "    print(b)\n"
   ]
  },
  {
   "cell_type": "code",
   "execution_count": null,
   "metadata": {},
   "outputs": [
    {
     "name": "stdout",
     "output_type": "stream",
     "text": [
      "x is currently 0\n",
      "x is currently 1\n",
      "x is currently 2\n",
      "x is currently 3\n",
      "x is currently 4\n",
      "x is currently 5\n",
      "x is currently 6\n",
      "x is currently 7\n",
      "x is currently 8\n",
      "x is currently 9\n",
      "all done\n"
     ]
    }
   ],
   "source": [
    "# While loops \n",
    "\n",
    "x = 0 # intialisation\n",
    "while x<10: # condition\n",
    "    print('x is currently',x)\n",
    "    x+=1 # increment \n",
    "else:\n",
    "    print(\"all done\")\n",
    "\n",
    "#break, continue, pass\n",
    "#break : Breaks out of the current closest enclosing loop \n",
    "#continue: Goes on the top of the closest enclosing loop\n",
    "#pass: does nothing at all \n",
    "\n",
    "x = 0\n",
    "while x<10:\n",
    "    pass\n",
    "\n",
    "x = 0 \n",
    "while x<10:\n",
    "    print('x is currently',x)\n",
    "    x+=1\n",
    "    if x ==3:\n",
    "        print(\"Breaking because x==3\")\n",
    "        break\n",
    "    else:\n",
    "        print(\"Continuing..\")\n",
    "        continue\n",
    "\n",
    "# Print even numbers \n",
    "\n",
    "x = int(input(\"Enter a number:\"))\n",
    "i = 1\n",
    "\n",
    "while i<=x:\n",
    "    if i %2 ==0:\n",
    "        print(i,end = \" \")\n",
    "    i+=1\n",
    "\n",
    "\n",
    "# Creating an infinite loop \n",
    "\n",
    "while True:\n",
    "    print(\"This is an example of an infinite loop!\")\n"
   ]
  },
  {
   "cell_type": "code",
   "execution_count": 27,
   "metadata": {},
   "outputs": [
    {
     "name": "stdout",
     "output_type": "stream",
     "text": [
      "0\n",
      "1\n",
      "2\n",
      "3\n",
      "4\n",
      "1 - a\n",
      "2 - b\n",
      "3 - c\n",
      "4 - d\n",
      "6 - e\n"
     ]
    },
    {
     "data": {
      "text/plain": [
       "True"
      ]
     },
     "execution_count": 27,
     "metadata": {},
     "output_type": "execute_result"
    }
   ],
   "source": [
    "# Useful operator \n",
    "\n",
    "#range\n",
    "list(range(1,10,2)) # start,stop,step_size\n",
    "\n",
    "# enumerate : used to print index and value in a sring \n",
    "index_count = 0 \n",
    "for index,letter in enumerate('abcde'):\n",
    "    print(index)\n",
    "\n",
    "## zip :combine 2 lists \n",
    "my_list = [1,2,3,4,6]\n",
    "my_list1 = ['a','b','c','d','e']\n",
    "zip_list = list(zip(my_list,my_list1))\n",
    "\n",
    "for item1,item2 in zip_list:\n",
    "    print(f\"{item1} - {item2}\")\n",
    "\n",
    "# in and not in operator \n",
    "\n",
    "'x' in [1,2,3]\n",
    "'x' not in [1,2,3]\n",
    "\n",
    "# max and min \n",
    "max(my_list)\n",
    "min(my_list)\n",
    "\n",
    "# randon \n",
    "from random import shuffle ,randint\n",
    "shuffle(my_list) #shuffle elements in a list \n",
    "\n",
    "# randint includes both end points\n",
    "randint(0,10) # Outputs one random integer between 0-10 \n"
   ]
  }
 ],
 "metadata": {
  "kernelspec": {
   "display_name": "base",
   "language": "python",
   "name": "python3"
  },
  "language_info": {
   "codemirror_mode": {
    "name": "ipython",
    "version": 3
   },
   "file_extension": ".py",
   "mimetype": "text/x-python",
   "name": "python",
   "nbconvert_exporter": "python",
   "pygments_lexer": "ipython3",
   "version": "3.9.13"
  },
  "orig_nbformat": 4
 },
 "nbformat": 4,
 "nbformat_minor": 2
}
