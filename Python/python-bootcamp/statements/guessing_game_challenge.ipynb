{
 "cells": [
  {
   "attachments": {},
   "cell_type": "markdown",
   "metadata": {},
   "source": [
    "# Guessing Game Challenge\n",
    "\n",
    "write a program that picks random integer from 1 to 100, and a player guess the number. \n",
    "\n",
    "The rules are:\n",
    "\n",
    "1. If the player's guess is less than 1 or greater than 100 say \"OUT OF BOUND\"\n",
    "2. On players first turn, if their guess is:\n",
    "   within 10 of the number return \"WARM\"\n",
    "   further 10 away for the number return \"COLD\"\n",
    "\n",
    "3. On all subsequent turns, if a guess is \n",
    "   Closer to the number than the previous guess return \"WARMER\"\n",
    "   farther from the number than the previous guess return \"COLDER\"\n",
    "\n",
    "4. When the players guess equals number, tell them they have guessed it correctly and how many guesses it took."
   ]
  },
  {
   "cell_type": "code",
   "execution_count": 8,
   "metadata": {},
   "outputs": [
    {
     "name": "stdout",
     "output_type": "stream",
     "text": [
      "Congratulations, you guessed it only in 1 guesses\n"
     ]
    }
   ],
   "source": [
    "from random import randint\n",
    "number = randint(0,10)\n",
    "guesses = [0]\n",
    "\n",
    "while True:\n",
    "    guess = int(input(\"I'm thinking of a number between 1 and 10\\n what us your gusess?\"))\n",
    "\n",
    "    if guess <1 or guess>10:\n",
    "        print(\"OUT OF BOUNDS! please try again\")\n",
    "        continue\n",
    "    \n",
    "    if guess == number:\n",
    "        print(f\"Congratulations, you guessed it only in {len(guesses)} guesses\")\n",
    "        break\n",
    "\n",
    "    guesses.append(guess) # if guess is incorrect, add guess to the list\n",
    "\n",
    "    if guesses[-2]:\n",
    "        if abs(number-guess) <abs(number-guesses[-2]):\n",
    "            print(\"WARMER!\")\n",
    "        else:\n",
    "            print(\"COLDER\")\n",
    "    else:\n",
    "        if abs(number-guess) <=5:\n",
    "            print(\"WARM!\")\n",
    "        else:\n",
    "            print(\"COLD\")"
   ]
  }
 ],
 "metadata": {
  "kernelspec": {
   "display_name": "base",
   "language": "python",
   "name": "python3"
  },
  "language_info": {
   "codemirror_mode": {
    "name": "ipython",
    "version": 3
   },
   "file_extension": ".py",
   "mimetype": "text/x-python",
   "name": "python",
   "nbconvert_exporter": "python",
   "pygments_lexer": "ipython3",
   "version": "3.9.13"
  },
  "orig_nbformat": 4
 },
 "nbformat": 4,
 "nbformat_minor": 2
}
