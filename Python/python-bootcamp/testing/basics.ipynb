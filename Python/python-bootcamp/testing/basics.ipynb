{
 "cells": [
  {
   "attachments": {},
   "cell_type": "markdown",
   "metadata": {},
   "source": [
    "# Testing Tools \n",
    "These tools tell if there are style issues or simple problems lile variable names being called before assignmnet \n",
    "1. pylint \n",
    "2. pyflakes\n",
    "3. pep8 \n",
    "\n",
    "# Preferred Testing Tools \n",
    "1. unittest\n",
    "2. doctest"
   ]
  },
  {
   "cell_type": "code",
   "execution_count": null,
   "metadata": {},
   "outputs": [],
   "source": [
    "# Using pylint examples \n",
    "# pylint rates our score out of 10, the more the score the better \n",
    "# Example1 : Basic troubleshooting \n",
    "# Remember if you are using Jupyter notebook magic command like %% then that should be the first command in the cell eveb above comments or else it won't work"
   ]
  },
  {
   "cell_type": "code",
   "execution_count": 17,
   "metadata": {},
   "outputs": [
    {
     "name": "stdout",
     "output_type": "stream",
     "text": [
      "Writing pylint_example1.py\n"
     ]
    }
   ],
   "source": [
    "%%writefile pylint_example1.py\n",
    "\"\"\"\n",
    "A very simple script\n",
    "\"\"\"\n",
    "def myfunc():\n",
    "    \"\"\"\n",
    "    An extremely simple function\n",
    "    \"\"\"\n",
    "FIRST = 1\n",
    "SECOND = 2\n",
    "print(FIRST)\n",
    "print(SECOND) \n",
    "myfunc()"
   ]
  },
  {
   "cell_type": "code",
   "execution_count": 18,
   "metadata": {},
   "outputs": [
    {
     "name": "stdout",
     "output_type": "stream",
     "text": [
      "************* Module pylint_example1\n",
      "pylint_example1.py:11:13: C0303: Trailing whitespace (trailing-whitespace)\n",
      "\n",
      "-----------------------------------\n",
      "Your code has been rated at 8.33/10\n",
      "\n",
      "\u001b[0m"
     ]
    }
   ],
   "source": [
    "! pylint pylint_example1.py"
   ]
  },
  {
   "cell_type": "code",
   "execution_count": null,
   "metadata": {},
   "outputs": [],
   "source": [
    "# For the below example we can see that pylint just indicated an unused variable but doen't tell us about an unexpected output from like print('second')"
   ]
  },
  {
   "cell_type": "code",
   "execution_count": 19,
   "metadata": {},
   "outputs": [
    {
     "name": "stdout",
     "output_type": "stream",
     "text": [
      "Overwriting pylint_example2.py\n"
     ]
    }
   ],
   "source": [
    "%%writefile pylint_example2.py\n",
    "\"\"\"\n",
    "A very simple script\n",
    "\"\"\"\n",
    "def myfunc():\n",
    "    \"\"\"\n",
    "    An extremely simple function\n",
    "    \"\"\"\n",
    "    first = 1\n",
    "    second = 2\n",
    "    print(first)\n",
    "    print('second')\n",
    "\n",
    "myfunc()"
   ]
  },
  {
   "cell_type": "code",
   "execution_count": 20,
   "metadata": {},
   "outputs": [
    {
     "name": "stdout",
     "output_type": "stream",
     "text": [
      "************* Module pylint_example2\n",
      "pylint_example2.py:9:4: W0612: Unused variable 'second' (unused-variable)\n",
      "\n",
      "-----------------------------------\n",
      "Your code has been rated at 8.33/10\n",
      "\n",
      "\u001b[0m"
     ]
    }
   ],
   "source": [
    "! pylint pylint_example2.py"
   ]
  },
  {
   "cell_type": "code",
   "execution_count": null,
   "metadata": {},
   "outputs": [],
   "source": [
    "# unitest\n",
    "# lets us write our own test programs. The goal is to send a specific set of data to your program and analyze results against expected results"
   ]
  },
  {
   "cell_type": "code",
   "execution_count": 24,
   "metadata": {},
   "outputs": [
    {
     "name": "stdout",
     "output_type": "stream",
     "text": [
      "Overwriting unitest_cap.py\n"
     ]
    }
   ],
   "source": [
    "%%writefile unitest_cap.py\n",
    "def cap_text(text):\n",
    "    return text.title()"
   ]
  },
  {
   "cell_type": "code",
   "execution_count": 31,
   "metadata": {},
   "outputs": [
    {
     "name": "stdout",
     "output_type": "stream",
     "text": [
      "Overwriting unittest_test_cap.py\n"
     ]
    }
   ],
   "source": [
    "%%writefile unittest_test_cap.py\n",
    "import unittest\n",
    "import unitest_cap\n",
    "\n",
    "class Testcap(unittest.TestCase):\n",
    "    def test_one_word(self):\n",
    "        text = \"Python\"\n",
    "        result = unitest_cap.cap_text(text)\n",
    "        self.assertEqual(result,'Python')\n",
    "    def test_multiple_words(self):\n",
    "        text = 'monty program'\n",
    "        result = unitest_cap.cap_text(text)\n",
    "        self.assertEqual(result,'Monty Program')\n",
    "\n",
    "    def test_with_apostrophes(self):\n",
    "        text = \"monty python's car\"\n",
    "        result = unitest_cap.cap_text(text)\n",
    "        self.assertEqual(result,\"Monty Python's Car\")\n",
    "if __name__ == '__main__':\n",
    "    unittest.main() "
   ]
  },
  {
   "cell_type": "code",
   "execution_count": 32,
   "metadata": {},
   "outputs": [
    {
     "name": "stdout",
     "output_type": "stream",
     "text": [
      "..F\n",
      "======================================================================\n",
      "FAIL: test_with_apostrophes (__main__.Testcap)\n",
      "----------------------------------------------------------------------\n",
      "Traceback (most recent call last):\n",
      "  File \"/Users/nehalkumar/Desktop/Programming/Python/python-bootcamp/testing/unittest_test_cap.py\", line 17, in test_with_apostrophes\n",
      "    self.assertEqual(result,\"Monty Python's Car\")\n",
      "AssertionError: \"Monty Python'S Car\" != \"Monty Python's Car\"\n",
      "- Monty Python'S Car\n",
      "?              ^\n",
      "+ Monty Python's Car\n",
      "?              ^\n",
      "\n",
      "\n",
      "----------------------------------------------------------------------\n",
      "Ran 3 tests in 0.000s\n",
      "\n",
      "FAILED (failures=1)\n"
     ]
    }
   ],
   "source": [
    "! python unittest_test_cap.py"
   ]
  }
 ],
 "metadata": {
  "kernelspec": {
   "display_name": "base",
   "language": "python",
   "name": "python3"
  },
  "language_info": {
   "codemirror_mode": {
    "name": "ipython",
    "version": 3
   },
   "file_extension": ".py",
   "mimetype": "text/x-python",
   "name": "python",
   "nbconvert_exporter": "python",
   "pygments_lexer": "ipython3",
   "version": "3.9.13"
  },
  "orig_nbformat": 4
 },
 "nbformat": 4,
 "nbformat_minor": 2
}
