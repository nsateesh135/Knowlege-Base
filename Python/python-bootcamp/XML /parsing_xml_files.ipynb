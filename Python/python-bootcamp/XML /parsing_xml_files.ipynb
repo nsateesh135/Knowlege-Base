{
 "cells": [
  {
   "cell_type": "code",
   "execution_count": 2,
   "metadata": {},
   "outputs": [
    {
     "name": "stdout",
     "output_type": "stream",
     "text": [
      "Retrieving https://www.mydeal.com.au/sitemap-deals-1.xml\n",
      "Retrieved 10380680 characters\n"
     ]
    }
   ],
   "source": [
    "from urllib import request\n",
    "import xml.etree.ElementTree as ET\n",
    "\n",
    "url = 'https://www.mydeal.com.au/sitemap-deals-1.xml'\n",
    "\n",
    "print (\"Retrieving\", url)\n",
    "html = request.urlopen(url)\n",
    "data = html.read()\n",
    "print(\"Retrieved\",len(data),\"characters\")"
   ]
  },
  {
   "cell_type": "code",
   "execution_count": 3,
   "metadata": {},
   "outputs": [],
   "source": [
    "tree = ET.fromstring(data)\n",
    "results = tree.findall('comments/comment')"
   ]
  }
 ],
 "metadata": {
  "kernelspec": {
   "display_name": "base",
   "language": "python",
   "name": "python3"
  },
  "language_info": {
   "codemirror_mode": {
    "name": "ipython",
    "version": 3
   },
   "file_extension": ".py",
   "mimetype": "text/x-python",
   "name": "python",
   "nbconvert_exporter": "python",
   "pygments_lexer": "ipython3",
   "version": "3.9.13"
  },
  "orig_nbformat": 4
 },
 "nbformat": 4,
 "nbformat_minor": 2
}
