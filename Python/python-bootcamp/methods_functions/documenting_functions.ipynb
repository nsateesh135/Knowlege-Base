{
 "cells": [
  {
   "cell_type": "code",
   "execution_count": null,
   "metadata": {},
   "outputs": [],
   "source": [
    "# Documenting Functions best practice"
   ]
  },
  {
   "cell_type": "code",
   "execution_count": 5,
   "metadata": {},
   "outputs": [
    {
     "name": "stdout",
     "output_type": "stream",
     "text": [
      "8\n"
     ]
    }
   ],
   "source": [
    "def sum(a,b):\n",
    "  \"\"\"\n",
    "  This function calculates the sum of two objects and returns it.\n",
    "\n",
    "  Arguments:\n",
    "     a: is the first object \n",
    "     b: is the second object \n",
    "  \"\"\"\n",
    "  return a+b\n",
    "\n",
    "print(sum(3,5))"
   ]
  },
  {
   "cell_type": "code",
   "execution_count": 9,
   "metadata": {},
   "outputs": [
    {
     "name": "stdout",
     "output_type": "stream",
     "text": [
      "Help on function sum in module __main__:\n",
      "\n",
      "sum(a, b)\n",
      "    This function calculates the sum of two objects and returns it.\n",
      "    \n",
      "    Arguments:\n",
      "       a: is the first object \n",
      "       b: is the second object\n",
      "\n",
      "None\n"
     ]
    }
   ],
   "source": [
    "# Just enter name of the function without paranthesis and arguments \n",
    "print(help(sum))"
   ]
  },
  {
   "cell_type": "code",
   "execution_count": 13,
   "metadata": {},
   "outputs": [
    {
     "name": "stdout",
     "output_type": "stream",
     "text": [
      "6\n",
      "6\n",
      "None\n"
     ]
    }
   ],
   "source": [
    "#typing \n",
    "# Refer Youtube Videos \n",
    "# Type Annotations \n",
    "# Here we are just annotating that x should be a string, the output will not be an error\n",
    "\n",
    "x:str = 1\n",
    "\n",
    "# Static code analysis(MYPY)\n",
    "# pip install mypy \n",
    "# From terminal type mypy <file_name.py>\n",
    "# Output: Found 1 error in 1 file(checked 1 source file)\n",
    "\n",
    "# Function Annotation \n",
    "# -> type for the return value\n",
    "# If there is no return value then we can pass None\n",
    "def add_numbers(a:int,b:int,c:int)->int:\n",
    "    return a+b+c \n",
    "\n",
    "def add_numbers1(a:int,b:int,c:int)->None:\n",
    "    print(a+b+c) \n",
    "\n",
    "print(add_numbers(1,2,3))\n",
    "print(add_numbers1(1,2,3))"
   ]
  },
  {
   "cell_type": "code",
   "execution_count": 33,
   "metadata": {},
   "outputs": [
    {
     "name": "stdout",
     "output_type": "stream",
     "text": [
      "[1, 2]\n",
      "[1.2, 3.4, 5.8]\n"
     ]
    }
   ],
   "source": [
    "# List Type \n",
    "\n",
    "from typing import List,Dict,Set\n",
    "\n",
    "x: List[List[int]] = [[1,2],[3,4]]\n",
    "x: Dict[str,str] = {'a':'b'}\n",
    "x: Set[str] = {'a','b'}\n",
    "print(x)\n",
    "\n",
    "# Creating custom types \n",
    "Vector = list[float]\n",
    "Vectors = list[Vector]\n",
    "\n",
    "def foo(v:Vector)->Vector:\n",
    "    print(v)\n",
    "\n",
    "foo([1.2,3.4,5.8])\n",
    "\n",
    "def foo1(v:Vectors)-> Vector:\n",
    "    pass"
   ]
  },
  {
   "cell_type": "code",
   "execution_count": 27,
   "metadata": {},
   "outputs": [],
   "source": [
    "#Optional  and Any Type\n",
    "from typing import Optional, Any,Sequence \n",
    "\n",
    "def foo(Output:Optional[bool]=False):\n",
    "    pass\n",
    "\n",
    "def foo(Output:Any):\n",
    "    pass\n",
    "\n",
    "# Sequence \n",
    "def foo(seq:Sequence[str]):\n",
    "    pass\n",
    "\n",
    "foo(('a','b','c'))\n",
    "foo(['a','b','c'])\n",
    "foo('hello')"
   ]
  },
  {
   "cell_type": "code",
   "execution_count": null,
   "metadata": {},
   "outputs": [],
   "source": [
    "# Working with Tuple\n",
    "from typing import Tuple\n",
    "\n",
    "x: tuple = (1,2,3,\"hello\") \n",
    "x: Tuple[str,str,str] = ('a','b','c') "
   ]
  },
  {
   "cell_type": "code",
   "execution_count": 30,
   "metadata": {},
   "outputs": [
    {
     "data": {
      "text/plain": [
       "<function __main__.foo.<locals>.add(x: int, y: int) -> int>"
      ]
     },
     "execution_count": 30,
     "metadata": {},
     "output_type": "execute_result"
    }
   ],
   "source": [
    "# Callable : When we want to use a function as a parameter in another function \n",
    "\n",
    "from typing import Callable \n",
    "\n",
    "def loo(func: Callable[[int,int,Optional[int]],int]):\n",
    "    func(1,2)\n",
    "\n",
    "def add(x:int, y:int):\n",
    "    return x+y \n",
    "\n",
    "def foo(func: Callable[[int,int],int])->None:\n",
    "    func(1,2)\n",
    "\n",
    "foo(add)\n",
    "\n",
    "\n",
    "def foo() -> Callable[[int,int],int]:\n",
    "    def add(x:int,y:int)-> int:\n",
    "        return x+y \n",
    "    return add \n",
    "\n",
    "foo() \n",
    "\n",
    "# Using lambda \n",
    "def foo() -> Callable[[int,int],int]:\n",
    "    func: Callable[[int,int],int] = lambda x,y = x + y\n",
    "    return func \n",
    "\n",
    "foo() \n",
    "\n"
   ]
  }
 ],
 "metadata": {
  "kernelspec": {
   "display_name": "base",
   "language": "python",
   "name": "python3"
  },
  "language_info": {
   "codemirror_mode": {
    "name": "ipython",
    "version": 3
   },
   "file_extension": ".py",
   "mimetype": "text/x-python",
   "name": "python",
   "nbconvert_exporter": "python",
   "pygments_lexer": "ipython3",
   "version": "3.9.13"
  },
  "orig_nbformat": 4
 },
 "nbformat": 4,
 "nbformat_minor": 2
}
