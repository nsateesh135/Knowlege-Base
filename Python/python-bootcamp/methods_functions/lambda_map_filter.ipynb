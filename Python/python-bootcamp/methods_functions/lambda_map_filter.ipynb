{
 "cells": [
  {
   "cell_type": "code",
   "execution_count": 3,
   "metadata": {},
   "outputs": [
    {
     "data": {
      "text/plain": [
       "[1, 4, 9, 16, 25, 36]"
      ]
     },
     "execution_count": 3,
     "metadata": {},
     "output_type": "execute_result"
    }
   ],
   "source": [
    "# Map : allows to map a function to an iterable object \n",
    "\n",
    "list1 = [1,2,3,4,5,6]\n",
    "def multiply_2(list):\n",
    "    return list**2\n",
    "\n",
    "# Output of a map function is a memory location to ger results we need to iterate\n",
    "list(map(multiply_2,list1))\n"
   ]
  },
  {
   "cell_type": "code",
   "execution_count": 6,
   "metadata": {},
   "outputs": [
    {
     "data": {
      "text/plain": [
       "[0, 2, 4, 6, 8, 10]"
      ]
     },
     "execution_count": 6,
     "metadata": {},
     "output_type": "execute_result"
    }
   ],
   "source": [
    "# Filter\n",
    "\n",
    "def check_even(num):\n",
    "    return num%2 ==0\n",
    "\n",
    "nums = list(range(0,11))\n",
    "\n",
    "list(filter(check_even,nums))\n"
   ]
  },
  {
   "attachments": {},
   "cell_type": "markdown",
   "metadata": {},
   "source": [
    "Note - The difference between map and filter function is map function performs a transformation on each item in an iterable, returning lazy iterable back. The filter function filters down the items in an iterable, returning lazy itreable back"
   ]
  },
  {
   "cell_type": "code",
   "execution_count": 10,
   "metadata": {},
   "outputs": [
    {
     "data": {
      "text/plain": [
       "[2, 4, 6]"
      ]
     },
     "execution_count": 10,
     "metadata": {},
     "output_type": "execute_result"
    }
   ],
   "source": [
    "# Lambda\n",
    "\n",
    "# Helps us to create anonymous/ad-hoc functions\n",
    "# Single expression not a block of statements like functions\n",
    "\n",
    "square = lambda num : num**2\n",
    "square(2)\n",
    "\n",
    "list(map(lambda num : num**2,list1))\n",
    "\n",
    "list(filter(lambda num :num %2 ==0,list1))\n",
    "\n",
    "lambda x,y : x+y \n"
   ]
  }
 ],
 "metadata": {
  "kernelspec": {
   "display_name": "base",
   "language": "python",
   "name": "python3"
  },
  "language_info": {
   "codemirror_mode": {
    "name": "ipython",
    "version": 3
   },
   "file_extension": ".py",
   "mimetype": "text/x-python",
   "name": "python",
   "nbconvert_exporter": "python",
   "pygments_lexer": "ipython3",
   "version": "3.9.13"
  },
  "orig_nbformat": 4
 },
 "nbformat": 4,
 "nbformat_minor": 2
}
