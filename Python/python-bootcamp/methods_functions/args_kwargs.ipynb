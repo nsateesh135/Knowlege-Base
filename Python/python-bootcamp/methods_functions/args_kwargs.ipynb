{
 "cells": [
  {
   "cell_type": "code",
   "execution_count": null,
   "metadata": {},
   "outputs": [],
   "source": [
    "# *args \n",
    "# It allows for an arbitary number of arguments \n",
    "# It is worth nothing that word \"args\" is itself arbitary - any word will do so long as its preceded by an asterisk"
   ]
  },
  {
   "cell_type": "code",
   "execution_count": 2,
   "metadata": {},
   "outputs": [
    {
     "data": {
      "text/plain": [
       "60.0"
      ]
     },
     "execution_count": 2,
     "metadata": {},
     "output_type": "execute_result"
    }
   ],
   "source": [
    "def myfunc(*args):\n",
    "    return sum(args)*.5\n",
    "\n",
    "myfunc(40,60,20)\n",
    "\n",
    "def myfunc(*span):\n",
    "    return sum(span)*.5 \n",
    "myfunc(40,60,20)"
   ]
  },
  {
   "cell_type": "code",
   "execution_count": 5,
   "metadata": {},
   "outputs": [
    {
     "name": "stdout",
     "output_type": "stream",
     "text": [
      "Apple\n"
     ]
    }
   ],
   "source": [
    "#kwargs\n",
    "# To handle arbitary numbers of keyworded arguents \n",
    "\n",
    "def myfunc(**kwargs):\n",
    "    if 'fruit' in kwargs:\n",
    "        print(f\"{kwargs['fruit']}\")\n",
    "    else:\n",
    "        print(\"I dont like fruit\")\n",
    "\n",
    "myfunc(fruit='Apple')"
   ]
  },
  {
   "cell_type": "code",
   "execution_count": 8,
   "metadata": {},
   "outputs": [
    {
     "name": "stdout",
     "output_type": "stream",
     "text": [
      "I like eggs and spam and my favourite fruit is cherries\n",
      "May I have some orange Juice\n"
     ]
    }
   ],
   "source": [
    "# *args and **kwargs combined\n",
    "\n",
    "def myfunc(*args,**kwargs):\n",
    "    if 'fruit' and 'Juice' in kwargs:\n",
    "        print(f\"I like {' and '.join(args)} and my favourite fruit is {kwargs['fruit']}\")\n",
    "        print(f\"May I have some {kwargs['Juice']} Juice\")\n",
    "    else:\n",
    "        pass\n",
    "\n",
    "myfunc('eggs','spam',fruit='cherries',Juice='orange')"
   ]
  }
 ],
 "metadata": {
  "kernelspec": {
   "display_name": "base",
   "language": "python",
   "name": "python3"
  },
  "language_info": {
   "codemirror_mode": {
    "name": "ipython",
    "version": 3
   },
   "file_extension": ".py",
   "mimetype": "text/x-python",
   "name": "python",
   "nbconvert_exporter": "python",
   "pygments_lexer": "ipython3",
   "version": "3.9.13"
  },
  "orig_nbformat": 4
 },
 "nbformat": 4,
 "nbformat_minor": 2
}
