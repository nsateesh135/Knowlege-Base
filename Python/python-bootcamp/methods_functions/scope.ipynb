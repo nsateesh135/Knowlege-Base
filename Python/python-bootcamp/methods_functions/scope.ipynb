{
 "cells": [
  {
   "cell_type": "code",
   "execution_count": 1,
   "metadata": {},
   "outputs": [
    {
     "name": "stdout",
     "output_type": "stream",
     "text": [
      "x is 50\n",
      "Changed local x to 2\n",
      "x is still 50\n"
     ]
    }
   ],
   "source": [
    "# Local Scope\n",
    "\n",
    "x = 50 \n",
    "\n",
    "def func(x):\n",
    "    print('x is',x)\n",
    "    x = 2  # x is local to the func()\n",
    "    print('Changed local x to',x)\n",
    "func(x)\n",
    "print('x is still',x)"
   ]
  },
  {
   "cell_type": "code",
   "execution_count": 2,
   "metadata": {},
   "outputs": [
    {
     "name": "stdout",
     "output_type": "stream",
     "text": [
      "Before calling the func(), x is: 50\n",
      "This function is now using the global x!\n",
      "Because of the global x is: 50\n",
      "Ran func(), changed global x to 2\n",
      "Value of x (outside of func()) is: 2\n"
     ]
    }
   ],
   "source": [
    "# Global Scope \n",
    "x = 50 \n",
    "\n",
    "def func():\n",
    "    global x\n",
    "    print('This function is now using the global x!')\n",
    "    print('Because of the global x is:',x)\n",
    "    x = 2\n",
    "    print('Ran func(), changed global x to',x)\n",
    "\n",
    "print('Before calling the func(), x is:',x)\n",
    "func()\n",
    "print('Value of x (outside of func()) is:',x)"
   ]
  }
 ],
 "metadata": {
  "kernelspec": {
   "display_name": "base",
   "language": "python",
   "name": "python3"
  },
  "language_info": {
   "codemirror_mode": {
    "name": "ipython",
    "version": 3
   },
   "file_extension": ".py",
   "mimetype": "text/x-python",
   "name": "python",
   "nbconvert_exporter": "python",
   "pygments_lexer": "ipython3",
   "version": "3.9.13"
  },
  "orig_nbformat": 4
 },
 "nbformat": 4,
 "nbformat_minor": 2
}
