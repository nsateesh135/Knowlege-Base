{
 "cells": [
  {
   "cell_type": "code",
   "execution_count": null,
   "metadata": {},
   "outputs": [],
   "source": [
    "# Functions "
   ]
  },
  {
   "cell_type": "code",
   "execution_count": 11,
   "metadata": {},
   "outputs": [
    {
     "name": "stdout",
     "output_type": "stream",
     "text": [
      "3.14\n",
      "12.56\n",
      "[2, 6, 34, 26, 76, 24]\n"
     ]
    }
   ],
   "source": [
    "def greetings():\n",
    "    print(\"hello world!\")\n",
    "\n",
    "# Functions can have argumnets\n",
    "def greetings(name):\n",
    "    print(f\"welcome back {name}\")\n",
    "\n",
    "# Functions can have default value for arguments\n",
    "def greetings(name = \"John\"):\n",
    "    print(f\"Welcome back {name}\")\n",
    "\n",
    "# Using return keyword to save the resulting variable \n",
    "\n",
    "def area_of_circle(radius,pi=3.14):\n",
    "    return pi*(radius)**2\n",
    "\n",
    "unit_circle = area_of_circle(radius = 1)\n",
    "circle_with_radius_two = area_of_circle(radius = 2)\n",
    "print(unit_circle)\n",
    "print(circle_with_radius_two)\n",
    "\n",
    "# Check if any number in a list is even \n",
    "\n",
    "list1 = [1,2,3,6,9,87,65,34,26,76,43,24]\n",
    "def check_even(list):\n",
    "    return [num for num in list1 if num%2==0]\n",
    "\n",
    "print(check_even(list1))\n",
    "\n",
    "# Master Yoda: Given a sentence,return a sentence with words reversed \n",
    "# mater_yoda('I am home') -> 'home am I \n",
    "\n",
    "def master_yoda(string):\n",
    "   list_view = string.split()\n",
    "   return ' '.join(list_view[::-1])\n",
    "\n",
    "# Almost there: Given an integer n, return True id n is within 10 of either 100 or 200 \n",
    "# almost_there(90) -> TRUE \n",
    "\n",
    "def almost_there(num):\n",
    "   return (abs(100-num)<=10) or (abs(200-num)<=10)\n",
    "\n",
    " # Summer69: Return the sum of the numbers in the array, except ignore sections of numbers starting with a 6 and extending to the next 9. Return 0 for no numbers\n",
    " # [2,1,6,9,11] -> 14 \n",
    "def summer69(arr):\n",
    "    total = 0 \n",
    "    add = True \n",
    "\n",
    "    for num in arr:\n",
    "       while add:\n",
    "          if num!=6:\n",
    "             total+=num\n",
    "             break\n",
    "          else :\n",
    "             add = False \n",
    "       while not add:\n",
    "          if num!=9:\n",
    "             break\n",
    "          else:\n",
    "             add = True\n",
    "             break \n",
    "    return total\n",
    "\n",
    "# Prime number count\n",
    "\n",
    "def count_prime(num):\n",
    "   primes = [2]\n",
    "   x = 3 \n",
    "   if num <2: return 0\n",
    "   while x<=num:\n",
    "      for y in primes:\n",
    "         if x%y ==0:\n",
    "            x+=2\n",
    "            break\n",
    "      else:\n",
    "         primes.append(x) \n",
    "         x+=2 \n",
    "   print(primes)\n",
    "   return len(primes)"
   ]
  }
 ],
 "metadata": {
  "kernelspec": {
   "display_name": "base",
   "language": "python",
   "name": "python3"
  },
  "language_info": {
   "codemirror_mode": {
    "name": "ipython",
    "version": 3
   },
   "file_extension": ".py",
   "mimetype": "text/x-python",
   "name": "python",
   "nbconvert_exporter": "python",
   "pygments_lexer": "ipython3",
   "version": "3.9.13"
  },
  "orig_nbformat": 4
 },
 "nbformat": 4,
 "nbformat_minor": 2
}
