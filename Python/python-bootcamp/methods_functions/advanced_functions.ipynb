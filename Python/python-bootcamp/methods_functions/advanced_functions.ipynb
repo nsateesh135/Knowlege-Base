{
 "cells": [
  {
   "cell_type": "code",
   "execution_count": 3,
   "metadata": {},
   "outputs": [
    {
     "data": {
      "text/plain": [
       "33.49333333333333"
      ]
     },
     "execution_count": 3,
     "metadata": {},
     "output_type": "execute_result"
    }
   ],
   "source": [
    "# write a function that computes volumne of a sphere give radius \n",
    "\n",
    "def volume_of_sphere(radius,pi=3.14):\n",
    "    return (4/3)*(pi)*(radius**3)\n",
    "\n",
    "volume_of_sphere(2)"
   ]
  },
  {
   "cell_type": "code",
   "execution_count": 5,
   "metadata": {},
   "outputs": [
    {
     "data": {
      "text/plain": [
       "True"
      ]
     },
     "execution_count": 5,
     "metadata": {},
     "output_type": "execute_result"
    }
   ],
   "source": [
    "# Check if string is a palindrome\n",
    "# Text which reads the same backwards as forward \n",
    "\n",
    "def palindrome(string):\n",
    "    return string == string[::-1]\n",
    "\n",
    "palindrome('madam')\n",
    "palindrome('kayak')\n"
   ]
  },
  {
   "cell_type": "code",
   "execution_count": null,
   "metadata": {},
   "outputs": [],
   "source": [
    "# Check if the text is a pangram \n",
    "# Pangram are text which contain every alphabet at least once\n",
    "# \"The quick brown fox jumps over the lazy dog\"\n",
    "\n",
    "\n",
    "import string \n",
    "def ispangram(str1,alphabet=string.ascii_lowercase):\n",
    "    alphaset = set(alphabet)\n",
    "    str1 = str1.replace(\" \",'')\n",
    "    str1 = str1.lower()\n",
    "    str1 = set(str1)\n",
    "\n",
    "    return str1 == alphaset"
   ]
  }
 ],
 "metadata": {
  "kernelspec": {
   "display_name": "base",
   "language": "python",
   "name": "python3"
  },
  "language_info": {
   "codemirror_mode": {
    "name": "ipython",
    "version": 3
   },
   "file_extension": ".py",
   "mimetype": "text/x-python",
   "name": "python",
   "nbconvert_exporter": "python",
   "pygments_lexer": "ipython3",
   "version": "3.9.13"
  },
  "orig_nbformat": 4
 },
 "nbformat": 4,
 "nbformat_minor": 2
}
