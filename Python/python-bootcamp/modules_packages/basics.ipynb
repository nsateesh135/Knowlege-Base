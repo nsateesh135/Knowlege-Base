{
 "cells": [
  {
   "cell_type": "code",
   "execution_count": null,
   "metadata": {},
   "outputs": [],
   "source": [
    "# Packages\n",
    "# Packages are collection of modeules\n",
    "# Modules are just .py file that can call in another .py file\n",
    "# External packages\n",
    "# These are simply python code written for a specific usecase like numpy for numerical computation , matplotlib for visualization etc\n",
    "# It is suggested we install python packages using pip \n",
    "# Example : pip install numpy \n",
    "# To search for a particular Python package go here : https://pypi.org"
   ]
  },
  {
   "cell_type": "code",
   "execution_count": null,
   "metadata": {},
   "outputs": [],
   "source": [
    "# Creating a module \n",
    "\n",
    "# Step 1: Create a file called my_module.py \n",
    "# Step 2: Create some code may be a function \n",
    "\"\"\"\n",
    "def my_func():\n",
    "    print(\"This is my_module.py\")\n",
    "\"\"\"\n",
    "# Step 3: Create a file called python.py \n",
    "# Step 4: import function from module.py and used in python.py \n",
    "\"\"\"\n",
    "from my_module import my_func\n",
    "\n",
    "my_func()\n",
    "\"\"\""
   ]
  },
  {
   "cell_type": "code",
   "execution_count": null,
   "metadata": {},
   "outputs": [],
   "source": [
    "# Steps to create a package \n",
    "# In this below example we will be creating a pacakage and a subpackage and importing functions into our main python script\n",
    "# Step 1 : Inorder for Python to understand its a package we need to include _init_.py files in my_package and sub_package\n",
    "# Step 2: Create a main_report.py file in my_pacakge folder -> add basic print function \n",
    "# Step 3: Create a sub_package.py file in my_package->sub_package folder -> add basic print function \n",
    "# Step 4: Call functions from my_package and sub_package in the beloe python script"
   ]
  },
  {
   "cell_type": "code",
   "execution_count": 1,
   "metadata": {},
   "outputs": [
    {
     "name": "stdout",
     "output_type": "stream",
     "text": [
      "Hey I  a Python file in the main package folder\n",
      "I am Python file in a submodule folder\n"
     ]
    }
   ],
   "source": [
    "from my_package import main_report \n",
    "from my_package.sub_package import sub_package_main\n",
    "\n",
    "main_report.report_main()\n",
    "sub_package_main.report_sub_main()\n"
   ]
  }
 ],
 "metadata": {
  "kernelspec": {
   "display_name": "base",
   "language": "python",
   "name": "python3"
  },
  "language_info": {
   "codemirror_mode": {
    "name": "ipython",
    "version": 3
   },
   "file_extension": ".py",
   "mimetype": "text/x-python",
   "name": "python",
   "nbconvert_exporter": "python",
   "pygments_lexer": "ipython3",
   "version": "3.9.13"
  },
  "orig_nbformat": 4
 },
 "nbformat": 4,
 "nbformat_minor": 2
}
