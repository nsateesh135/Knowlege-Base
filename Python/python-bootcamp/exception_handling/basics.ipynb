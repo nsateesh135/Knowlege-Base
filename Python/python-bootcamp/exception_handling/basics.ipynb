{
 "cells": [
  {
   "cell_type": "code",
   "execution_count": 3,
   "metadata": {},
   "outputs": [
    {
     "name": "stdout",
     "output_type": "stream",
     "text": [
      "Looks like you did not enter an integer\n",
      "Finally I executed\n",
      "Looks like you did not enter an integer\n",
      "Finally I executed\n",
      "Yep that is an integer!\n",
      "2\n",
      "Finally I executed\n"
     ]
    }
   ],
   "source": [
    "# Exception Handling \n",
    "# Why use exception handling? So that production code is not interrupted if an exception occurs \n",
    "# try: The code which can cause an error is put in here \n",
    "# except: The handling of an exception/error is done here\n",
    "# else: If the condition in except is not satisfied then it is printed in else block\n",
    "# finally: always prints the output irrespective of wheather except/else executes\n",
    "\n",
    "try :\n",
    "    print(\"Run the code\")\n",
    "except:\n",
    "    print(\"Execute the code when there is an execution\")\n",
    "else:\n",
    "    print(\"No exceptions? Run this code\")\n",
    "finally:\n",
    "    print(\"always run the code\")\n",
    "    \n",
    "\n",
    "def askint():\n",
    "    while True:\n",
    "        try: \n",
    "            val = int(input(\"Please enter an integer:\"))\n",
    "        except:\n",
    "            print(\"Looks like you did not enter an integer\")\n",
    "            continue\n",
    "        else:\n",
    "            print(\"Yep that is an integer!\")\n",
    "            print(val)\n",
    "            break \n",
    "        finally: \n",
    "            print(\"Finally I executed\")\n",
    "askint()\n",
    "\n",
    "# There are some predefined exemptions we can use as well \n",
    "\n",
    "try: \n",
    "    f = open('text.txt','r')\n",
    "    f.write('Test write this')\n",
    "except IOError:\n",
    "    print(\"Error: Could not find file or read data\")\n",
    "else:\n",
    "    print(\"Content written successfully\")\n",
    "    f.close()"
   ]
  },
  {
   "cell_type": "code",
   "execution_count": 13,
   "metadata": {},
   "outputs": [
    {
     "name": "stdout",
     "output_type": "stream",
     "text": [
      "Wrong data uploaded. The error is unsupported operand type(s) for ** or pow(): 'str' and 'int'\n"
     ]
    }
   ],
   "source": [
    "try : \n",
    "    for i in ['a','b','c']:\n",
    "        print(i**2)\n",
    "except Exception as e : \n",
    "    print(f\"Wrong data uploaded. The error is {e}\")"
   ]
  },
  {
   "cell_type": "code",
   "execution_count": 15,
   "metadata": {},
   "outputs": [
    {
     "name": "stdout",
     "output_type": "stream",
     "text": [
      "Error encountered: division by zero\n",
      "All Done!\n"
     ]
    }
   ],
   "source": [
    "x = 5 \n",
    "y = 0 \n",
    "try: \n",
    "    z = x/y \n",
    "except Exception as e: \n",
    "    print(f\"Error encountered: {e}\")\n",
    "finally: \n",
    "    print(\"All Done!\")"
   ]
  },
  {
   "cell_type": "code",
   "execution_count": null,
   "metadata": {},
   "outputs": [],
   "source": [
    "# Custom Exceptions \n",
    "# Inherit from the Exception class \n",
    "\n",
    "class NotAllowedError(Exception):\n",
    "    pass\n",
    "\n",
    "def check_age(age):\n",
    "    if age<13:\n",
    "        raise NotAllowedError\n",
    "    else:\n",
    "        print(\"proceed to next step\")\n",
    "\n",
    "print(check_age(18))\n",
    "\n",
    "# We can raise more than one exception in the except block \n",
    "\n",
    "\n",
    "class NotAllowedError(Exception):\n",
    "    pass\n",
    "class CustomError(Exception):\n",
    "    pass\n",
    "\n",
    "def submit_form(code):\n",
    "  if code == 'valid':\n",
    "    try:\n",
    "        pass\n",
    "    except (NotAllowedError, CustomError) as e:\n",
    "        print('Invalid details')\n",
    "        print('Another error encountered')\n",
    "        print(e)\n",
    "    finally:\n",
    "        pass"
   ]
  }
 ],
 "metadata": {
  "kernelspec": {
   "display_name": "base",
   "language": "python",
   "name": "python3"
  },
  "language_info": {
   "codemirror_mode": {
    "name": "ipython",
    "version": 3
   },
   "file_extension": ".py",
   "mimetype": "text/x-python",
   "name": "python",
   "nbconvert_exporter": "python",
   "pygments_lexer": "ipython3",
   "version": "3.9.13"
  },
  "orig_nbformat": 4
 },
 "nbformat": 4,
 "nbformat_minor": 2
}
