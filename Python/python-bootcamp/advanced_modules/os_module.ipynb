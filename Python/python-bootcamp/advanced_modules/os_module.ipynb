{
 "cells": [
  {
   "cell_type": "code",
   "execution_count": 2,
   "metadata": {},
   "outputs": [],
   "source": [
    "# Use the os and shutil module to interact with the operating system\n",
    "# This package works irrespective of the system you are working on e.g- Mac/Windows\n",
    "# os and shutil both are inbuilt python packages"
   ]
  },
  {
   "cell_type": "code",
   "execution_count": 15,
   "metadata": {},
   "outputs": [
    {
     "name": "stdout",
     "output_type": "stream",
     "text": [
      "/Users/nehalkumar/Desktop/Programming-main/Python/python-bootcamp/advanced_modules\n",
      "['collections.ipynb', 'os_module.ipynb']\n"
     ]
    }
   ],
   "source": [
    "import os\n",
    "\n",
    "# List current directory \n",
    "# If you are using Jupyter notebook you can use pwd \n",
    "print(os.getcwd())\n",
    "\n",
    "# List elements in a directory \n",
    "# In linux this would be equivalent to ls and in windows dir\n",
    "# We can pass any directory location \n",
    "print(os.listdir())\n",
    "os.listdir(\"/Users/nehalkumar\")"
   ]
  },
  {
   "cell_type": "code",
   "execution_count": 19,
   "metadata": {},
   "outputs": [
    {
     "name": "stdout",
     "output_type": "stream",
     "text": [
      "['untitled folder', '.DS_Store', '.localized', 'Automation ', 'mydeal_logo.png', 'practice.txt', 'dbt-learn-2024', 'Second Brain\\xa0', 'Programming-main']\n"
     ]
    }
   ],
   "source": [
    "import shutil\n",
    "# Move file across directories \n",
    "# This is equivalent to mv \n",
    "shutil.move('practice.txt','/Users/nehalkumar/Desktop')\n",
    "\n",
    "# Check if the file has been moved\n",
    "print(os.listdir('/Users/nehalkumar/Desktop'))"
   ]
  },
  {
   "cell_type": "code",
   "execution_count": 22,
   "metadata": {},
   "outputs": [],
   "source": [
    "# Deleting a file /folder \n",
    "# 3 methods : os.unlink(), os.rmdir(path),shutil.rmtree(path)\n",
    "# os.unlink(path): deletes file at the path provided \n",
    "# os.rmdir(path) : deletes folder at the path, only when the folder is empty \n",
    "# shutil.rmtree(path): very dangerous removes all files and folders(can't be recovered)\n",
    "\n",
    "# To overcome shutil.rmtree(path) use send2trash module\n",
    "# send2trash sends file to recycle bin rather than deleting it permanently\n",
    "# pip install send2trash"
   ]
  },
  {
   "cell_type": "code",
   "execution_count": 27,
   "metadata": {},
   "outputs": [],
   "source": [
    "import send2trash\n",
    "\n",
    "# Bring the file back to current working directory\n",
    "#shutil.move('/Users/nehalkumar/Desktop/practice.txt',os.getcwd())\n",
    "\n",
    "# Check if practice file exists in the current directory\n",
    "os.listdir()\n",
    "# Move file to recycle bin\n",
    "send2trash.send2trash('practice.txt')\n"
   ]
  },
  {
   "cell_type": "code",
   "execution_count": null,
   "metadata": {},
   "outputs": [],
   "source": [
    "# os.walk() this is used to generate a tree level structure (folder --> Sub folder --> file)\n",
    "\n",
    "file_path = os.getcwd()\n",
    "\n",
    "for folder , sub_folder, files in os.walk(file_path):\n",
    "\n",
    "    print(f\"Currently looking at folder {folder}\")\n",
    "    print(\"\\n\")\n",
    "\n",
    "    for sub_fold in sub_folder:\n",
    "        print(\"f Subfolder :{sub_fold}\")\n",
    "        print(\"\\n\")\n",
    "\n",
    "        for file in files:\n",
    "            print(\"f Files are :{file}\")\n",
    "    print(\"\\n\")"
   ]
  },
  {
   "cell_type": "code",
   "execution_count": 29,
   "metadata": {},
   "outputs": [
    {
     "data": {
      "text/plain": [
       "'/Users/nehalkumar'"
      ]
     },
     "execution_count": 29,
     "metadata": {},
     "output_type": "execute_result"
    }
   ],
   "source": [
    "# os.path() \n",
    "import os\n",
    "# List of file names\n",
    "names = ['file1.txt', 'file2.txt', 'file3.txt']\n",
    " \n",
    "# Iterate over file names and process each file\n",
    "for file_name in names:\n",
    " \n",
    "    file_path = os.path.join('/home/user', file_name)\n",
    "    print(f\"Processing file: {file_path}\")"
   ]
  }
 ],
 "metadata": {
  "kernelspec": {
   "display_name": "base",
   "language": "python",
   "name": "python3"
  },
  "language_info": {
   "codemirror_mode": {
    "name": "ipython",
    "version": 3
   },
   "file_extension": ".py",
   "mimetype": "text/x-python",
   "name": "python",
   "nbconvert_exporter": "python",
   "pygments_lexer": "ipython3",
   "version": "3.9.13"
  }
 },
 "nbformat": 4,
 "nbformat_minor": 2
}
