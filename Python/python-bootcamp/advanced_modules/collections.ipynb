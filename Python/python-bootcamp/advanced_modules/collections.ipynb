{
 "cells": [
  {
   "cell_type": "code",
   "execution_count": 1,
   "metadata": {},
   "outputs": [],
   "source": [
    "# Collections Module\n",
    "# Collections is a specialized built in module which provides specialized data types"
   ]
  },
  {
   "cell_type": "code",
   "execution_count": 2,
   "metadata": {},
   "outputs": [
    {
     "name": "stdout",
     "output_type": "stream",
     "text": [
      "Counter({'each': 3, 'word': 3, 'times': 2, 'how': 1, 'many': 1, 'does': 1, 'show': 1, 'up': 1, 'in': 1, 'this': 1, 'sentence': 1})\n",
      "Counter({1: 4, 2: 2, 3: 2, 4: 1})\n",
      "Counter({'a': 5, 'b': 3, 'c': 3})\n"
     ]
    }
   ],
   "source": [
    "# Counter \n",
    "# Counter is a dict subclass which helps count hashable objects. \n",
    "#Inside of it elements are stored as dictionary keys and the counts of the objects are stored as the value\n",
    "\n",
    "from collections import Counter \n",
    "\n",
    "my_list = [1,1,1,1,2,2,3,3,4]\n",
    "my_string = 'aaaaabbbccc'\n",
    "my_sentence = 'How many times does each word show up in this sentence word times each each word'\n",
    "\n",
    "words = my_sentence.lower().split()\n",
    "\n",
    "print(Counter(words))\n",
    "print(Counter(my_list))\n",
    "print(Counter(my_string))"
   ]
  },
  {
   "cell_type": "code",
   "execution_count": 16,
   "metadata": {},
   "outputs": [
    {
     "name": "stdout",
     "output_type": "stream",
     "text": [
      "Counter({1: 4, 2: 2, 3: 2, 4: 1})\n",
      "[(1, 4), (2, 2)]\n",
      "9\n",
      "[1, 2, 3, 4]\n",
      "{1, 2, 3, 4}\n",
      "{1: 4, 2: 2, 3: 2, 4: 1}\n",
      "dict_items([(1, 4), (2, 2), (3, 2), (4, 1)])\n",
      "Counter({(1, 4): 1, (2, 2): 1, (3, 2): 1, (4, 1): 1})\n"
     ]
    }
   ],
   "source": [
    "# Counter methods \n",
    "# sum(c.values()) : total of all counts\n",
    "# c.clear() :reset all counts\n",
    "# list(c) :list unique elements\n",
    "# set(c)  :convert to a set\n",
    "# dict(c) :convert to a regular dictionary\n",
    "# c.items()  :convert to a list of (elem, cnt) pairs\n",
    "# Counter(dict(list_of_pairs)) :convert from a list of (elem, cnt) pairs\n",
    "# c.most_common()[:-n-1:-1] : n most common elements\n",
    "# c += Counter()  :remove zero and negative counts\n",
    "\n",
    "c = Counter(my_list)\n",
    "print(c)\n",
    "print(c.most_common(n=2))\n",
    "print(sum(c.values()))\n",
    "print(list(c))\n",
    "print(set(c))\n",
    "print(dict(c))\n",
    "print(c.items())\n",
    "print(Counter(c.items()))"
   ]
  },
  {
   "cell_type": "code",
   "execution_count": 34,
   "metadata": {},
   "outputs": [
    {
     "name": "stdout",
     "output_type": "stream",
     "text": [
      "0\n"
     ]
    }
   ],
   "source": [
    "# Default Dictionary \n",
    "# In a usual dictionary when the keys don't exist and we try to fetch value it raises a error\n",
    "# But when using defaultdict we will pass a dafult value rather than throwing an error\n",
    "\n",
    "from collections import defaultdict\n",
    "\n",
    "d = {}\n",
    "d = defaultdict(lambda: 0)\n",
    "print(d['one'])\n"
   ]
  },
  {
   "cell_type": "code",
   "execution_count": 40,
   "metadata": {},
   "outputs": [
    {
     "name": "stdout",
     "output_type": "stream",
     "text": [
      "Dog(age=2, breed='Lab', name='Sammy')\n",
      "Sammy\n",
      "2\n",
      "Lab\n"
     ]
    }
   ],
   "source": [
    "# namedtuple\n",
    "# This data type helps iterate through tuples\n",
    "from collections import namedtuple\n",
    "Dog = namedtuple('Dog',['age','breed','name'])\n",
    "\n",
    "sam = Dog(age=2,breed='Lab',name='Sammy')\n",
    "frank = Dog(age=2,breed='Shepard',name=\"Frankie\")\n",
    "\n",
    "print(sam)\n",
    "print(sam.name)\n",
    "print(sam.age)\n",
    "print(sam.breed)"
   ]
  }
 ],
 "metadata": {
  "kernelspec": {
   "display_name": "base",
   "language": "python",
   "name": "python3"
  },
  "language_info": {
   "codemirror_mode": {
    "name": "ipython",
    "version": 3
   },
   "file_extension": ".py",
   "mimetype": "text/x-python",
   "name": "python",
   "nbconvert_exporter": "python",
   "pygments_lexer": "ipython3",
   "version": "3.9.13"
  },
  "orig_nbformat": 4
 },
 "nbformat": 4,
 "nbformat_minor": 2
}
