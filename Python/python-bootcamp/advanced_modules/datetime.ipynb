{
 "cells": [
  {
   "cell_type": "code",
   "execution_count": 1,
   "metadata": {},
   "outputs": [
    {
     "name": "stdout",
     "output_type": "stream",
     "text": [
      "02:20:00\n",
      "2\n",
      "20\n",
      "0\n"
     ]
    }
   ],
   "source": [
    "# Working with time\n",
    "import datetime\n",
    "#datetime.time(hour,minute,second,microseconds,timezone)\n",
    "# The parameters which are not explicity defined are assign a default value of zero\n",
    "mytime = datetime.time(2,20)\n",
    "\n",
    "print(mytime)\n",
    "print(mytime.hour)\n",
    "print(mytime.minute)\n",
    "print(mytime.microsecond) # default value assigned"
   ]
  },
  {
   "cell_type": "code",
   "execution_count": 2,
   "metadata": {},
   "outputs": [
    {
     "name": "stdout",
     "output_type": "stream",
     "text": [
      "2024-03-03\n",
      "2024\n",
      "3\n",
      "3\n",
      "Sun Mar  3 00:00:00 2024\n"
     ]
    }
   ],
   "source": [
    "\n",
    "# Working with date(s)\n",
    "today = datetime.date.today()\n",
    "print(today)\n",
    "print(today.year)\n",
    "print(today.month)\n",
    "print(today.day)\n",
    "\n",
    "print(today.ctime()) # Custom date format "
   ]
  },
  {
   "cell_type": "code",
   "execution_count": 3,
   "metadata": {},
   "outputs": [
    {
     "name": "stdout",
     "output_type": "stream",
     "text": [
      "2024\n",
      "2\n",
      "16\n",
      "13\n",
      "20\n",
      "0\n"
     ]
    },
    {
     "data": {
      "text/plain": [
       "datetime.datetime(2023, 2, 16, 13, 20)"
      ]
     },
     "execution_count": 3,
     "metadata": {},
     "output_type": "execute_result"
    }
   ],
   "source": [
    "# Working with datetime\n",
    "from datetime import datetime\n",
    "\n",
    "mydatetime = datetime(2024,2,16,13,20)\n",
    "\n",
    "print(mydatetime.year)\n",
    "print(mydatetime.month)\n",
    "print(mydatetime.day)\n",
    "print(mydatetime.hour)\n",
    "print(mydatetime.minute)\n",
    "print(mydatetime.microsecond) # Assigned default value \n",
    "\n",
    "mydatetime.replace(year = 2023) #To replace datetime parameters"
   ]
  },
  {
   "cell_type": "code",
   "execution_count": 4,
   "metadata": {},
   "outputs": [
    {
     "name": "stdout",
     "output_type": "stream",
     "text": [
      "365 days, 0:00:00\n",
      "<class 'datetime.timedelta'>\n",
      "365\n",
      "364 days, 16:00:00\n",
      "<class 'datetime.timedelta'>\n",
      "364\n",
      "57600\n"
     ]
    }
   ],
   "source": [
    "# Operation using datetime \n",
    "\n",
    "from datetime import date \n",
    "\n",
    "date1 = date(2024,2,16)\n",
    "date2 = date(2023,2,16)\n",
    "\n",
    "print(date1 - date2) \n",
    "print(type(date1 - date2)) # timedelta datatype\n",
    "print((date1 -date2).days)\n",
    "\n",
    "datetime1 = datetime(2024,2,16,8)\n",
    "datetime2 = datetime(2023,2,16,16)\n",
    "\n",
    "print(datetime1 - datetime2)\n",
    "print(type(datetime1 - datetime2))\n",
    "\n",
    "print((datetime1 - datetime2).days)\n",
    "print((datetime1 - datetime2).seconds)"
   ]
  },
  {
   "cell_type": "code",
   "execution_count": 8,
   "metadata": {},
   "outputs": [
    {
     "name": "stdout",
     "output_type": "stream",
     "text": [
      "2024-03-03 23:34:26.399453\n",
      "23:34:26.399453\n",
      "2024-03-03\n"
     ]
    }
   ],
   "source": [
    "# Datetime module has 3 object types: date, time, datetime\n",
    "from datetime import datetime,date\n",
    "\n",
    "# How to create a current date time (local time)? \n",
    "current_date_time = datetime.now()\n",
    "\n",
    "# How to create current date(local date)? \n",
    "current_date = date.today()\n",
    "\n",
    "# How to identify all attributes + methods  in a module? \n",
    "# print(dir(datetime))\n",
    "\n",
    "print(current_date_time)\n",
    "print(current_date_time.time())\n",
    "print(current_date)"
   ]
  },
  {
   "cell_type": "code",
   "execution_count": 30,
   "metadata": {},
   "outputs": [
    {
     "name": "stdout",
     "output_type": "stream",
     "text": [
      "365 days, 0:00:00\n",
      "2024-02-18 23:51:46.704076\n",
      "2024-02-18\n",
      "2024-03-24 23:51:46.704164\n",
      "2024-03-24\n",
      "False\n",
      "2024-03-03 12:51:46.704261\n",
      "2024-03-03 23:51:46.704315+11:00\n",
      "2024-03-03 20:51:46.704359+08:00\n",
      "2024-03-03 22:51:46.704398+10:00\n"
     ]
    }
   ],
   "source": [
    "\n",
    "import datetime\n",
    "# How to calculate days between 2 dates? \n",
    "print(datetime.date(2024,2,1)-datetime.date(2023,2,1))\n",
    "\n",
    "# How to calculate days between 2 datetimes?\n",
    "# timedelta(days=0, seconds=0, microseconds=0, milliseconds=0, minutes=0, hours=0, weeks=0)\n",
    "\n",
    "# What was the datetime/date 14 days ago ? \n",
    "print(datetime.datetime.today() - datetime.timedelta(days = 14))\n",
    "print(datetime.date.today()-datetime.timedelta(days = 14))\n",
    "\n",
    "# What is the datetime/date 21 days in the future ? \n",
    "\n",
    "print(datetime.datetime.today() + datetime.timedelta(days = 21))\n",
    "print(datetime.date.today() + datetime.timedelta(days = 21))\n",
    "\n",
    "# Check to see if today is greater than 7 days in future ?\n",
    "print(datetime.date.today() > (datetime.date.today() +datetime.timedelta(days = 7)))\n",
    "\n",
    "# Find local time in melbourne, perth, brisbane ? \n",
    "print(datetime.datetime.utcnow())\n",
    "import pytz\n",
    "# print(pytz.all_timezones)\n",
    "print(datetime.datetime.now(pytz.timezone(\"Australia/Melbourne\")))\n",
    "print(datetime.datetime.now(pytz.timezone(\"Australia/Perth\")))\n",
    "print(datetime.datetime.now(pytz.timezone(\"Australia/Brisbane\")))"
   ]
  },
  {
   "cell_type": "code",
   "execution_count": 37,
   "metadata": {},
   "outputs": [
    {
     "name": "stdout",
     "output_type": "stream",
     "text": [
      "2024-03-03 13:01:46.914501+00:00\n",
      "2024-03-04 00:01:46.914577+00:00\n",
      "2019-10-17 00:00:00\n"
     ]
    }
   ],
   "source": [
    "# Store date in utc \n",
    "import datetime\n",
    "import pytz \n",
    "time_now = datetime.datetime.now(pytz.utc)\n",
    "print(time_now)\n",
    "\n",
    "# Convert to users local timezone using localize \n",
    "now = datetime.datetime.today()\n",
    "now_utc = pytz.utc.localize(now)\n",
    "print(now_utc)\n",
    "\n",
    "# Convert strings to datetime\n",
    "# dateobj =datetime.strptime(date_string,format)\n",
    "\n",
    "date_string = \"10/17/19\"\n",
    "date_obj = datetime.datetime.strptime(date_string,'%m/%d/%y')\n",
    "print(date_obj)\n",
    "\n",
    "# Convert datetime to string \n",
    "#datetime_string = datetime_object.strftime(format_string)\n",
    "#time_string = datetime_object.strftime(format_string[,time_object])\n",
    "\n",
    "current_date = datetime.datetime.now()\n",
    "current_date_string = current_date.strftime('%m/%d/%y %H:%M:%S')\n",
    "print(current_date_string)\n"
   ]
  },
  {
   "cell_type": "code",
   "execution_count": null,
   "metadata": {},
   "outputs": [],
   "source": [
    "# Other Python date modules \n",
    "# arrow (pip install - U arrow)\n",
    "\n",
    "import arrow \n",
    "current_time = arrow.now()\n",
    "print(current_time)\n",
    "print(current_time.to('UTC'))\n",
    "\n",
    "#maya \n",
    "# parse strings and convert timezones\n",
    "\n",
    "import maya\n",
    "dt = maya.parse('2024-03-03T23:23:13Z').datetime()\n",
    "print(dt.date())\n",
    "print(dt)\n",
    "print(dt.time())\n",
    "\n",
    "#Dateutil \n",
    "# Used to parse date and times \n",
    "\n",
    "from dateutil import parser\n",
    "dbt_obj = parser.parse('Thu Oct 17 17:10:28 2019')\n",
    "print(dt_obj)\n",
    "\n"
   ]
  }
 ],
 "metadata": {
  "kernelspec": {
   "display_name": "base",
   "language": "python",
   "name": "python3"
  },
  "language_info": {
   "codemirror_mode": {
    "name": "ipython",
    "version": 3
   },
   "file_extension": ".py",
   "mimetype": "text/x-python",
   "name": "python",
   "nbconvert_exporter": "python",
   "pygments_lexer": "ipython3",
   "version": "3.9.13"
  }
 },
 "nbformat": 4,
 "nbformat_minor": 2
}
