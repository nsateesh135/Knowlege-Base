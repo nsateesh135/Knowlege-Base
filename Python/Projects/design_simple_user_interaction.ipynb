{
 "cells": [
  {
   "cell_type": "code",
   "execution_count": 1,
   "metadata": {},
   "outputs": [],
   "source": [
    "# Lets design a simple user interaction\n",
    "from IPython.display import clear_output "
   ]
  },
  {
   "cell_type": "code",
   "execution_count": 2,
   "metadata": {},
   "outputs": [],
   "source": [
    "def display_game_list(list):\n",
    "    \"\"\"\n",
    "    This function displays the modified/unmodified list \n",
    "\n",
    "    Arguments:\n",
    "    list : list object \n",
    "    \"\"\"\n",
    "    print(\"Here is the current list\")\n",
    "    print(list)"
   ]
  },
  {
   "cell_type": "code",
   "execution_count": 3,
   "metadata": {},
   "outputs": [],
   "source": [
    "def position_choice():\n",
    "\n",
    "    choice = 'placeholder'\n",
    "\n",
    "    while choice not in ['0','1','2']:\n",
    "\n",
    "        choice = input (\"Choose a number between 0,1,2\")\n",
    "\n",
    "        if choice not in ['0','1','2']:\n",
    "            print(\"You have entered an invalid input. Please enter an expected value.\")\n",
    "    return int(choice)"
   ]
  },
  {
   "cell_type": "code",
   "execution_count": 4,
   "metadata": {},
   "outputs": [],
   "source": [
    "def replacement_choice(list,position):\n",
    "    user_placement = input(\"Type a string to a place at the position\")\n",
    "    list[position] = user_placement \n",
    "    return list "
   ]
  },
  {
   "cell_type": "code",
   "execution_count": 5,
   "metadata": {},
   "outputs": [],
   "source": [
    "def game_choice():\n",
    "     choice = 'placeholder'\n",
    "     \n",
    "     while choice not in ['Y','N']:\n",
    "\n",
    "          choice = input(\"Choose an option between Y or N \")\n",
    "\n",
    "          if choice not in ['Y','N']:\n",
    "               print(\"You have chosen the wrong option. Please choose a valid input\")\n",
    "     clear_output()\n",
    "     if choice == 'Y':\n",
    "          return True\n",
    "     else:\n",
    "          return False"
   ]
  },
  {
   "cell_type": "code",
   "execution_count": 6,
   "metadata": {},
   "outputs": [],
   "source": [
    "# Bringing all functions together \n",
    "game_status = True \n",
    "game_list = [0,1,2]\n",
    "\n",
    "while game_status: \n",
    "    # Display game list so user can see the layout \n",
    "    clear_output()\n",
    "    display_game_list(game_list)\n",
    "\n",
    "    position = position_choice()\n",
    "\n",
    "\n",
    "\n",
    "    game_list = replacement_choice(game_list,position)\n",
    "    clear_output()\n",
    "    display_game_list(game_list)\n",
    "\n",
    "    game_status = game_choice()"
   ]
  }
 ],
 "metadata": {
  "kernelspec": {
   "display_name": "base",
   "language": "python",
   "name": "python3"
  },
  "language_info": {
   "codemirror_mode": {
    "name": "ipython",
    "version": 3
   },
   "file_extension": ".py",
   "mimetype": "text/x-python",
   "name": "python",
   "nbconvert_exporter": "python",
   "pygments_lexer": "ipython3",
   "version": "3.9.13"
  },
  "orig_nbformat": 4
 },
 "nbformat": 4,
 "nbformat_minor": 2
}
